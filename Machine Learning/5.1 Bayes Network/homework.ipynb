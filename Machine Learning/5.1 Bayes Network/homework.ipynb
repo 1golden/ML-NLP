{
 "cells": [
  {
   "cell_type": "markdown",
   "metadata": {},
   "source": [
    "# 加载数据"
   ]
  },
  {
   "cell_type": "code",
   "execution_count": 343,
   "metadata": {},
   "outputs": [
    {
     "name": "stdout",
     "output_type": "stream",
     "text": [
      "<class 'pandas.core.frame.DataFrame'>\n",
      "RangeIndex: 891 entries, 0 to 890\n",
      "Data columns (total 12 columns):\n",
      " #   Column       Non-Null Count  Dtype  \n",
      "---  ------       --------------  -----  \n",
      " 0   PassengerId  891 non-null    int64  \n",
      " 1   Survived     891 non-null    int64  \n",
      " 2   Pclass       891 non-null    int64  \n",
      " 3   Name         891 non-null    object \n",
      " 4   Sex          891 non-null    object \n",
      " 5   Age          714 non-null    float64\n",
      " 6   SibSp        891 non-null    int64  \n",
      " 7   Parch        891 non-null    int64  \n",
      " 8   Ticket       891 non-null    object \n",
      " 9   Fare         891 non-null    float64\n",
      " 10  Cabin        204 non-null    object \n",
      " 11  Embarked     889 non-null    object \n",
      "dtypes: float64(2), int64(5), object(5)\n",
      "memory usage: 83.7+ KB\n"
     ]
    },
    {
     "data": {
      "text/plain": [
       "PassengerId      0\n",
       "Survived         0\n",
       "Pclass           0\n",
       "Name             0\n",
       "Sex              0\n",
       "Age            177\n",
       "SibSp            0\n",
       "Parch            0\n",
       "Ticket           0\n",
       "Fare             0\n",
       "Cabin          687\n",
       "Embarked         2\n",
       "dtype: int64"
      ]
     },
     "execution_count": 343,
     "metadata": {},
     "output_type": "execute_result"
    },
    {
     "data": {
      "text/plain": [
       "count    891.000000\n",
       "mean      32.204208\n",
       "std       49.693429\n",
       "min        0.000000\n",
       "25%        7.910400\n",
       "50%       14.454200\n",
       "75%       31.000000\n",
       "max      512.329200\n",
       "Name: Fare, dtype: float64"
      ]
     },
     "execution_count": 343,
     "metadata": {},
     "output_type": "execute_result"
    },
    {
     "data": {
      "text/plain": [
       "count    714.000000\n",
       "mean      29.699118\n",
       "std       14.526497\n",
       "min        0.420000\n",
       "25%       20.125000\n",
       "50%       28.000000\n",
       "75%       38.000000\n",
       "max       80.000000\n",
       "Name: Age, dtype: float64"
      ]
     },
     "execution_count": 343,
     "metadata": {},
     "output_type": "execute_result"
    },
    {
     "data": {
      "text/html": [
       "<div>\n",
       "<style scoped>\n",
       "    .dataframe tbody tr th:only-of-type {\n",
       "        vertical-align: middle;\n",
       "    }\n",
       "\n",
       "    .dataframe tbody tr th {\n",
       "        vertical-align: top;\n",
       "    }\n",
       "\n",
       "    .dataframe thead th {\n",
       "        text-align: right;\n",
       "    }\n",
       "</style>\n",
       "<table border=\"1\" class=\"dataframe\">\n",
       "  <thead>\n",
       "    <tr style=\"text-align: right;\">\n",
       "      <th></th>\n",
       "      <th>PassengerId</th>\n",
       "      <th>Survived</th>\n",
       "      <th>Pclass</th>\n",
       "      <th>Name</th>\n",
       "      <th>Sex</th>\n",
       "      <th>Age</th>\n",
       "      <th>SibSp</th>\n",
       "      <th>Parch</th>\n",
       "      <th>Ticket</th>\n",
       "      <th>Fare</th>\n",
       "      <th>Cabin</th>\n",
       "      <th>Embarked</th>\n",
       "    </tr>\n",
       "  </thead>\n",
       "  <tbody>\n",
       "    <tr>\n",
       "      <th>0</th>\n",
       "      <td>1</td>\n",
       "      <td>0.0</td>\n",
       "      <td>3.0</td>\n",
       "      <td>Abbing, Mr. Anthony</td>\n",
       "      <td>male</td>\n",
       "      <td>24.0</td>\n",
       "      <td>0.0</td>\n",
       "      <td>0.0</td>\n",
       "      <td>1601</td>\n",
       "      <td>8.05</td>\n",
       "      <td>B96 B98</td>\n",
       "      <td>S</td>\n",
       "    </tr>\n",
       "  </tbody>\n",
       "</table>\n",
       "</div>"
      ],
      "text/plain": [
       "   PassengerId  Survived  Pclass                 Name   Sex   Age  SibSp  \\\n",
       "0            1       0.0     3.0  Abbing, Mr. Anthony  male  24.0    0.0   \n",
       "\n",
       "   Parch Ticket  Fare    Cabin Embarked  \n",
       "0    0.0   1601  8.05  B96 B98        S  "
      ]
     },
     "execution_count": 343,
     "metadata": {},
     "output_type": "execute_result"
    },
    {
     "data": {
      "text/html": [
       "<div>\n",
       "<style scoped>\n",
       "    .dataframe tbody tr th:only-of-type {\n",
       "        vertical-align: middle;\n",
       "    }\n",
       "\n",
       "    .dataframe tbody tr th {\n",
       "        vertical-align: top;\n",
       "    }\n",
       "\n",
       "    .dataframe thead th {\n",
       "        text-align: right;\n",
       "    }\n",
       "</style>\n",
       "<table border=\"1\" class=\"dataframe\">\n",
       "  <thead>\n",
       "    <tr style=\"text-align: right;\">\n",
       "      <th></th>\n",
       "      <th>PassengerId</th>\n",
       "      <th>Survived</th>\n",
       "      <th>Pclass</th>\n",
       "      <th>Name</th>\n",
       "      <th>Sex</th>\n",
       "      <th>Age</th>\n",
       "      <th>SibSp</th>\n",
       "      <th>Parch</th>\n",
       "      <th>Ticket</th>\n",
       "      <th>Fare</th>\n",
       "      <th>Cabin</th>\n",
       "      <th>Embarked</th>\n",
       "    </tr>\n",
       "  </thead>\n",
       "  <tbody>\n",
       "    <tr>\n",
       "      <th>0</th>\n",
       "      <td>1</td>\n",
       "      <td>0</td>\n",
       "      <td>3</td>\n",
       "      <td>Braund, Mr. Owen Harris</td>\n",
       "      <td>male</td>\n",
       "      <td>22.0</td>\n",
       "      <td>1</td>\n",
       "      <td>0</td>\n",
       "      <td>A/5 21171</td>\n",
       "      <td>7.2500</td>\n",
       "      <td>NaN</td>\n",
       "      <td>S</td>\n",
       "    </tr>\n",
       "    <tr>\n",
       "      <th>1</th>\n",
       "      <td>2</td>\n",
       "      <td>1</td>\n",
       "      <td>1</td>\n",
       "      <td>Cumings, Mrs. John Bradley (Florence Briggs Th...</td>\n",
       "      <td>female</td>\n",
       "      <td>38.0</td>\n",
       "      <td>1</td>\n",
       "      <td>0</td>\n",
       "      <td>PC 17599</td>\n",
       "      <td>71.2833</td>\n",
       "      <td>C85</td>\n",
       "      <td>C</td>\n",
       "    </tr>\n",
       "    <tr>\n",
       "      <th>2</th>\n",
       "      <td>3</td>\n",
       "      <td>1</td>\n",
       "      <td>3</td>\n",
       "      <td>Heikkinen, Miss. Laina</td>\n",
       "      <td>female</td>\n",
       "      <td>26.0</td>\n",
       "      <td>0</td>\n",
       "      <td>0</td>\n",
       "      <td>STON/O2. 3101282</td>\n",
       "      <td>7.9250</td>\n",
       "      <td>NaN</td>\n",
       "      <td>S</td>\n",
       "    </tr>\n",
       "    <tr>\n",
       "      <th>3</th>\n",
       "      <td>4</td>\n",
       "      <td>1</td>\n",
       "      <td>1</td>\n",
       "      <td>Futrelle, Mrs. Jacques Heath (Lily May Peel)</td>\n",
       "      <td>female</td>\n",
       "      <td>35.0</td>\n",
       "      <td>1</td>\n",
       "      <td>0</td>\n",
       "      <td>113803</td>\n",
       "      <td>53.1000</td>\n",
       "      <td>C123</td>\n",
       "      <td>S</td>\n",
       "    </tr>\n",
       "    <tr>\n",
       "      <th>4</th>\n",
       "      <td>5</td>\n",
       "      <td>0</td>\n",
       "      <td>3</td>\n",
       "      <td>Allen, Mr. William Henry</td>\n",
       "      <td>male</td>\n",
       "      <td>35.0</td>\n",
       "      <td>0</td>\n",
       "      <td>0</td>\n",
       "      <td>373450</td>\n",
       "      <td>8.0500</td>\n",
       "      <td>NaN</td>\n",
       "      <td>S</td>\n",
       "    </tr>\n",
       "  </tbody>\n",
       "</table>\n",
       "</div>"
      ],
      "text/plain": [
       "   PassengerId  Survived  Pclass  \\\n",
       "0            1         0       3   \n",
       "1            2         1       1   \n",
       "2            3         1       3   \n",
       "3            4         1       1   \n",
       "4            5         0       3   \n",
       "\n",
       "                                                Name     Sex   Age  SibSp  \\\n",
       "0                            Braund, Mr. Owen Harris    male  22.0      1   \n",
       "1  Cumings, Mrs. John Bradley (Florence Briggs Th...  female  38.0      1   \n",
       "2                             Heikkinen, Miss. Laina  female  26.0      0   \n",
       "3       Futrelle, Mrs. Jacques Heath (Lily May Peel)  female  35.0      1   \n",
       "4                           Allen, Mr. William Henry    male  35.0      0   \n",
       "\n",
       "   Parch            Ticket     Fare Cabin Embarked  \n",
       "0      0         A/5 21171   7.2500   NaN        S  \n",
       "1      0          PC 17599  71.2833   C85        C  \n",
       "2      0  STON/O2. 3101282   7.9250   NaN        S  \n",
       "3      0            113803  53.1000  C123        S  \n",
       "4      0            373450   8.0500   NaN        S  "
      ]
     },
     "execution_count": 343,
     "metadata": {},
     "output_type": "execute_result"
    }
   ],
   "source": [
    "import pandas as pd\n",
    "pd.set_option('display.max_columns', None)\n",
    "import sys, os\n",
    "sys.path.insert(0, os.getcwd())\n",
    "\n",
    "from sklearn.cluster import KMeans\n",
    "from sklearn.discriminant_analysis import StandardScaler\n",
    "import matplotlib.pyplot as plt\n",
    "import seaborn as sns\n",
    "\n",
    "from IPython.core.interactiveshell import InteractiveShell\n",
    "InteractiveShell.ast_node_interactivity = \"all\"\n",
    "\n",
    "# 加载数据\n",
    "data = pd.read_csv('titanic.csv')\n",
    "\n",
    "# 简单查看数据\n",
    "data.info()\n",
    "data.isnull().sum()\n",
    "data['Fare'].describe()\n",
    "data['Age'].describe()\n",
    "data.mode().head(1)\n",
    "data.head(5)"
   ]
  },
  {
   "cell_type": "markdown",
   "metadata": {},
   "source": [
    "## 简单的可视化进行分析"
   ]
  },
  {
   "cell_type": "code",
   "execution_count": 344,
   "metadata": {},
   "outputs": [
    {
     "name": "stdout",
     "output_type": "stream",
     "text": [
      "Survival Rate by Age Group:\n",
      " AgeGroup\n",
      "Baby        0.704545\n",
      "Child       0.424242\n",
      "Teenager    0.403226\n",
      "Adult       0.355556\n",
      "OldAdult    0.420495\n",
      "Old         0.227273\n",
      "Name: Survived, dtype: float64\n",
      "Survival Rate by Fare Group:\n",
      " FareGroup\n",
      "Low          0.255079\n",
      "Middle       0.464646\n",
      "High         0.419540\n",
      "Expensive    0.675497\n",
      "Luxury       0.777778\n",
      "Name: Survived, dtype: float64\n"
     ]
    },
    {
     "name": "stderr",
     "output_type": "stream",
     "text": [
      "C:\\Users\\Dell\\AppData\\Local\\Temp\\ipykernel_5992\\234092384.py:24: FutureWarning: \n",
      "\n",
      "Passing `palette` without assigning `hue` is deprecated and will be removed in v0.14.0. Assign the `x` variable to `hue` and set `legend=False` for the same effect.\n",
      "\n",
      "  sns.barplot(x=\"AgeGroup\", y=\"Survived\", data=data, ax=axes[0], palette=\"coolwarm\")\n"
     ]
    },
    {
     "data": {
      "text/plain": [
       "<Axes: xlabel='AgeGroup', ylabel='Survived'>"
      ]
     },
     "execution_count": 344,
     "metadata": {},
     "output_type": "execute_result"
    },
    {
     "data": {
      "text/plain": [
       "Text(0.5, 1.0, 'Age Distribution')"
      ]
     },
     "execution_count": 344,
     "metadata": {},
     "output_type": "execute_result"
    },
    {
     "data": {
      "text/plain": [
       "Text(0.5, 0, 'Age Group')"
      ]
     },
     "execution_count": 344,
     "metadata": {},
     "output_type": "execute_result"
    },
    {
     "data": {
      "text/plain": [
       "Text(0, 0.5, 'Count')"
      ]
     },
     "execution_count": 344,
     "metadata": {},
     "output_type": "execute_result"
    },
    {
     "name": "stderr",
     "output_type": "stream",
     "text": [
      "C:\\Users\\Dell\\AppData\\Local\\Temp\\ipykernel_5992\\234092384.py:30: FutureWarning: \n",
      "\n",
      "Passing `palette` without assigning `hue` is deprecated and will be removed in v0.14.0. Assign the `x` variable to `hue` and set `legend=False` for the same effect.\n",
      "\n",
      "  sns.barplot(x=\"FareGroup\", y=\"Survived\", data=data, ax=axes[1], palette=\"coolwarm\")\n"
     ]
    },
    {
     "data": {
      "text/plain": [
       "<Axes: xlabel='FareGroup', ylabel='Survived'>"
      ]
     },
     "execution_count": 344,
     "metadata": {},
     "output_type": "execute_result"
    },
    {
     "data": {
      "text/plain": [
       "Text(0.5, 1.0, 'Fare Distribution')"
      ]
     },
     "execution_count": 344,
     "metadata": {},
     "output_type": "execute_result"
    },
    {
     "data": {
      "text/plain": [
       "Text(0.5, 0, 'Fare Category')"
      ]
     },
     "execution_count": 344,
     "metadata": {},
     "output_type": "execute_result"
    },
    {
     "data": {
      "text/plain": [
       "Text(0, 0.5, 'Count')"
      ]
     },
     "execution_count": 344,
     "metadata": {},
     "output_type": "execute_result"
    },
    {
     "data": {
      "image/png": "[encoded data removed]",
      "text/plain": [
       "<Figure size 1500x500 with 2 Axes>"
      ]
     },
     "metadata": {},
     "output_type": "display_data"
    }
   ],
   "source": [
    "# 数据离散化\n",
    "data[\"AgeGroup\"] = pd.cut(\n",
    "    data[\"Age\"],\n",
    "    bins=[0, 5, 14, 18, 30, 60, 100],\n",
    "    labels=[\"Baby\", \"Child\", \"Teenager\", \"Adult\", \"OldAdult\", \"Old\"],\n",
    ")\n",
    "\n",
    "data[\"FareGroup\"] = pd.cut(\n",
    "    data[\"Fare\"],\n",
    "    bins=[0, 15, 25, 50, 250, float(\"inf\")],\n",
    "    labels=[\"Low\", \"Middle\", \"High\", \"Expensive\", \"Luxury\"],\n",
    ")\n",
    "\n",
    "survival_by_age_group = data.groupby('AgeGroup')['Survived'].mean()\n",
    "survival_by_fare_group = data.groupby('FareGroup')['Survived'].mean()\n",
    "\n",
    "print(\"Survival Rate by Age Group:\\n\", survival_by_age_group)\n",
    "print(\"Survival Rate by Fare Group:\\n\", survival_by_fare_group)\n",
    "\n",
    "# 创建一个包含2个子图的画布\n",
    "fig, axes = plt.subplots(nrows=1, ncols=2, figsize=(15, 5))\n",
    "\n",
    "\n",
    "sns.barplot(x=\"AgeGroup\", y=\"Survived\", data=data, ax=axes[0], palette=\"coolwarm\")\n",
    "axes[0].set_title(\"Age Distribution\")\n",
    "axes[0].set_xlabel(\"Age Group\")\n",
    "axes[0].set_ylabel(\"Count\")\n",
    "\n",
    "\n",
    "sns.barplot(x=\"FareGroup\", y=\"Survived\", data=data, ax=axes[1], palette=\"coolwarm\")\n",
    "\n",
    "axes[1].set_title(\"Fare Distribution\")\n",
    "axes[1].set_xlabel(\"Fare Category\")\n",
    "axes[1].set_ylabel(\"Count\")\n",
    "\n",
    "plt.tight_layout()\n",
    "plt.show()\n"
   ]
  },
  {
   "cell_type": "markdown",
   "metadata": {},
   "source": [
    "# 特征处理\n",
    "## 1、特征描述\n",
    "- PassengerId => 乘客ID\n",
    "\n",
    "- Pclass => 客舱等级(1/2/3等舱位)\n",
    "\n",
    "- Name => 乘客姓名\n",
    "\n",
    "- Sex => 性别\n",
    "\n",
    "- Age => 年龄 \n",
    "\n",
    "- SibSp => 兄弟姐妹数/配偶数\n",
    "\n",
    "- Parch => 父母数/子女数\n",
    "\n",
    "- Ticket => 船票编号\n",
    "\n",
    "- Fare => 船票价格 \n",
    "\n",
    "- Cabin => 客舱号 \n",
    "\n",
    "- Embarked => 登船港口 \n",
    "\n",
    "## 2、处理缺失值和离散值\n",
    "- Embarked 缺失值众数填充为S\n",
    "- \n",
    "- Fare 缺失值中位数填充，划分为不同等级\n",
    "- \n",
    "- Cabin 取第一个字母作为类别，缺失值用 'N' 填充\n",
    "- \n",
    "- Age 划分为不同年龄段\n"
   ]
  },
  {
   "cell_type": "code",
   "execution_count": 345,
   "metadata": {},
   "outputs": [],
   "source": [
    "def preprocess_for_rf(data):\n",
    "    \"\"\"为随机森林算法准备数据\n",
    "\n",
    "    Args:\n",
    "        data (pandas.DataFrame): 原始数据\n",
    "\n",
    "    Returns:\n",
    "        pandas.DataFrame: 处理后的数据\n",
    "    \"\"\"\n",
    "    # 处理缺失值\n",
    "    data[\"Embarked\"].fillna(data[\"Embarked\"].mode()[0], inplace=True)  # 用众数填充缺失值\n",
    "    data[\"Fare\"].fillna(data[\"Fare\"].median(), inplace=True)  # 用中位数填充缺失值\n",
    "    data[\"Cabin\"] = (\n",
    "        data[\"Cabin\"].fillna(\"N\").map(lambda x: x[0])\n",
    "    )  # 用'N'填充缺失值, 然后取第一个字母作为cabin类别\n",
    "    \n",
    "    # 处理姓名特征\n",
    "    data[\"Title\"] = data[\"Name\"].str.extract(\" ([A-Za-z]+)\\.\", expand=False)\n",
    "    data[\"Title\"] = data[\"Title\"].replace(\n",
    "        [\n",
    "            \"Lady\",\n",
    "            \"Countess\",\n",
    "            \"Capt\",\n",
    "            \"Col\",\n",
    "            \"Don\",\n",
    "            \"Dr\",\n",
    "            \"Major\",\n",
    "            \"Rev\",\n",
    "            \"Sir\",\n",
    "            \"Jonkheer\",\n",
    "            \"Dona\",\n",
    "        ],\n",
    "        \"Rare\",\n",
    "    )\n",
    "    data[\"Title\"] = data[\"Title\"].replace(\"Mlle\", \"Miss\")\n",
    "    data[\"Title\"] = data[\"Title\"].replace(\"Ms\", \"Miss\")\n",
    "    data[\"Title\"] = data[\"Title\"].replace(\"Mme\", \"Mrs\")\n",
    "\n",
    "    # 处理意义重复特征\n",
    "    data[\"Family\"] = data[\"SibSp\"] + data[\"Parch\"]\n",
    "\n",
    "    data[\"Baby\"] = data[\"Age\"] <= 5\n",
    "    data[\"Child\"] = (data[\"Age\"] > 5) & (data[\"Age\"] <= 14)\n",
    "    data[\"Teenager\"] = (data[\"Age\"] > 14) & (data[\"Age\"] <= 18)\n",
    "    data[\"Adult\"] = (data[\"Age\"] > 18) & (data[\"Age\"] <= 30)\n",
    "    data[\"OldAdult\"] = (data[\"Age\"] > 30) & (data[\"Age\"] <= 60)\n",
    "    data[\"Old\"] = data[\"Age\"] > 60\n",
    "    data[\"Alone\"] = data[\"Family\"] == 0\n",
    "\n",
    "    data[\"Cheap\"] = data[\"Fare\"] <= 5\n",
    "    data[\"Low\"] = (data[\"Fare\"] > 5) & (data[\"Fare\"] <= 15)\n",
    "    data[\"Moderate\"] = (data[\"Fare\"] > 15) & (data[\"Fare\"] <= 25)\n",
    "    data[\"Medium\"] = (data[\"Fare\"] > 25) & (data[\"Fare\"] <= 50)\n",
    "    data[\"High\"] = (data[\"Fare\"] > 50) & (data[\"Fare\"] <= 100)\n",
    "    data[\"Expensive\"] = (data[\"Fare\"] > 100) & (data[\"Fare\"] <= 250)\n",
    "    data[\"Luxury\"] = data[\"Fare\"] > 250\n",
    "\n",
    "    # one-hot编码\n",
    "    data = pd.get_dummies(\n",
    "        data, columns=[\"Sex\", \"Embarked\", \"Title\", \"Cabin\"], drop_first=True\n",
    "    )\n",
    "    for l in [\"A\", \"B\", \"C\", \"D\", \"E\", \"F\", \"G\", \"T\"]:\n",
    "        col = f\"Cabin_{l}\"\n",
    "        if col not in data.columns:\n",
    "            data[col] = pd.Series([False] * data.shape[0])\n",
    "            data[col].fillna(False, inplace=True)\n",
    "    # print(\"待选择数据的列名\", data.columns)\n",
    "    columns = [\n",
    "        \"Age\",\n",
    "        \"Fare\",\n",
    "        \"Pclass\",\n",
    "        \"Parch\",\n",
    "        \"SibSp\",\n",
    "        \"Family\",  # 家族人数 = Parch + SibSp, 增加有意义的特征\n",
    "        \"Baby\",\n",
    "        \"Child\",\n",
    "        \"Teenager\",\n",
    "        \"Adult\",\n",
    "        \"OldAdult\",\n",
    "        \"Old\",\n",
    "        \"Alone\",\n",
    "        \"Cheap\",\n",
    "        \"Low\",\n",
    "        \"Moderate\",\n",
    "        \"Medium\",\n",
    "        \"High\",\n",
    "        \"Expensive\",\n",
    "        \"Luxury\",\n",
    "        \"Sex_male\",\n",
    "        \"Embarked_Q\",\n",
    "        \"Embarked_S\",\n",
    "        \"Title_Miss\",\n",
    "        \"Title_Mr\",\n",
    "        \"Title_Mrs\",\n",
    "        \"Cabin_A\",\n",
    "        \"Cabin_B\",\n",
    "        \"Cabin_C\",\n",
    "        \"Cabin_D\",\n",
    "        \"Cabin_E\",\n",
    "        \"Cabin_F\",\n",
    "        \"Cabin_G\",\n",
    "        \"Cabin_T\",  # 忽略 Cabin_N\n",
    "    ]\n",
    "\n",
    "    # 标量化\n",
    "    \n",
    "    numeric_columns = [\"Age\", \"Fare\", \"Parch\", \"SibSp\"]\n",
    "    scaler = StandardScaler()  # 标准化，将数据缩放到平均值为0，方差为1的正态分布\n",
    "    df = data[columns].copy()\n",
    "    df[numeric_columns] = scaler.fit_transform(df[numeric_columns])\n",
    "    # df.head()\n",
    "    \n",
    "    return data[columns]"
   ]
  },
  {
   "cell_type": "code",
   "execution_count": 346,
   "metadata": {},
   "outputs": [
    {
     "data": {
      "text/html": [
       "<div>\n",
       "<style scoped>\n",
       "    .dataframe tbody tr th:only-of-type {\n",
       "        vertical-align: middle;\n",
       "    }\n",
       "\n",
       "    .dataframe tbody tr th {\n",
       "        vertical-align: top;\n",
       "    }\n",
       "\n",
       "    .dataframe thead th {\n",
       "        text-align: right;\n",
       "    }\n",
       "</style>\n",
       "<table border=\"1\" class=\"dataframe\">\n",
       "  <thead>\n",
       "    <tr style=\"text-align: right;\">\n",
       "      <th></th>\n",
       "      <th>Pclass</th>\n",
       "      <th>Sex</th>\n",
       "      <th>Age</th>\n",
       "      <th>Fare</th>\n",
       "      <th>Cabin</th>\n",
       "      <th>Survived</th>\n",
       "    </tr>\n",
       "  </thead>\n",
       "  <tbody>\n",
       "    <tr>\n",
       "      <th>0</th>\n",
       "      <td>3</td>\n",
       "      <td>1</td>\n",
       "      <td>1</td>\n",
       "      <td>1</td>\n",
       "      <td>0</td>\n",
       "      <td>0</td>\n",
       "    </tr>\n",
       "    <tr>\n",
       "      <th>1</th>\n",
       "      <td>1</td>\n",
       "      <td>0</td>\n",
       "      <td>2</td>\n",
       "      <td>4</td>\n",
       "      <td>1</td>\n",
       "      <td>1</td>\n",
       "    </tr>\n",
       "    <tr>\n",
       "      <th>2</th>\n",
       "      <td>3</td>\n",
       "      <td>0</td>\n",
       "      <td>1</td>\n",
       "      <td>1</td>\n",
       "      <td>0</td>\n",
       "      <td>1</td>\n",
       "    </tr>\n",
       "    <tr>\n",
       "      <th>3</th>\n",
       "      <td>1</td>\n",
       "      <td>0</td>\n",
       "      <td>1</td>\n",
       "      <td>4</td>\n",
       "      <td>1</td>\n",
       "      <td>1</td>\n",
       "    </tr>\n",
       "    <tr>\n",
       "      <th>4</th>\n",
       "      <td>3</td>\n",
       "      <td>1</td>\n",
       "      <td>1</td>\n",
       "      <td>1</td>\n",
       "      <td>0</td>\n",
       "      <td>0</td>\n",
       "    </tr>\n",
       "    <tr>\n",
       "      <th>...</th>\n",
       "      <td>...</td>\n",
       "      <td>...</td>\n",
       "      <td>...</td>\n",
       "      <td>...</td>\n",
       "      <td>...</td>\n",
       "      <td>...</td>\n",
       "    </tr>\n",
       "    <tr>\n",
       "      <th>886</th>\n",
       "      <td>2</td>\n",
       "      <td>1</td>\n",
       "      <td>1</td>\n",
       "      <td>1</td>\n",
       "      <td>0</td>\n",
       "      <td>0</td>\n",
       "    </tr>\n",
       "    <tr>\n",
       "      <th>887</th>\n",
       "      <td>1</td>\n",
       "      <td>0</td>\n",
       "      <td>1</td>\n",
       "      <td>3</td>\n",
       "      <td>1</td>\n",
       "      <td>1</td>\n",
       "    </tr>\n",
       "    <tr>\n",
       "      <th>888</th>\n",
       "      <td>3</td>\n",
       "      <td>0</td>\n",
       "      <td>1</td>\n",
       "      <td>2</td>\n",
       "      <td>0</td>\n",
       "      <td>0</td>\n",
       "    </tr>\n",
       "    <tr>\n",
       "      <th>889</th>\n",
       "      <td>1</td>\n",
       "      <td>1</td>\n",
       "      <td>1</td>\n",
       "      <td>3</td>\n",
       "      <td>1</td>\n",
       "      <td>1</td>\n",
       "    </tr>\n",
       "    <tr>\n",
       "      <th>890</th>\n",
       "      <td>3</td>\n",
       "      <td>1</td>\n",
       "      <td>1</td>\n",
       "      <td>1</td>\n",
       "      <td>0</td>\n",
       "      <td>0</td>\n",
       "    </tr>\n",
       "  </tbody>\n",
       "</table>\n",
       "<p>891 rows × 6 columns</p>\n",
       "</div>"
      ],
      "text/plain": [
       "     Pclass  Sex  Age  Fare  Cabin  Survived\n",
       "0         3    1    1     1      0         0\n",
       "1         1    0    2     4      1         1\n",
       "2         3    0    1     1      0         1\n",
       "3         1    0    1     4      1         1\n",
       "4         3    1    1     1      0         0\n",
       "..      ...  ...  ...   ...    ...       ...\n",
       "886       2    1    1     1      0         0\n",
       "887       1    0    1     3      1         1\n",
       "888       3    0    1     2      0         0\n",
       "889       1    1    1     3      1         1\n",
       "890       3    1    1     1      0         0\n",
       "\n",
       "[891 rows x 6 columns]"
      ]
     },
     "execution_count": 346,
     "metadata": {},
     "output_type": "execute_result"
    }
   ],
   "source": [
    "def preprocess_for_Bayesian(data_all):\n",
    "    data = data_all.copy()\n",
    "    # data[\"Embarked\"].fillna(data[\"Embarked\"].mode()[0], inplace=True)  # 用众数填充缺失值\n",
    "    data[\"Fare\"].fillna(data[\"Fare\"].median(), inplace=True)  # 用中位数填充缺失值\n",
    "    data.loc[data.Cabin.notnull(), \"Cabin\"] = 1\n",
    "    data.loc[data.Cabin.isnull(), \"Cabin\"] = 0\n",
    "    data.loc[data[\"Sex\"] == \"male\", \"Sex\"] = 1\n",
    "    data.loc[data[\"Sex\"] == \"female\", \"Sex\"] = 0\n",
    "\n",
    "\n",
    "    # 处理年龄特征\n",
    "    data[\"Age\"] = data[\"Age\"].fillna(data[\"Age\"].median())  # 填充缺失的年龄值\n",
    "    data.loc[data[\"Age\"] <= 18, \"Age\"] = 0  \n",
    "    data.loc[(data[\"Age\"] > 18) & (data[\"Age\"] <= 35), \"Age\"] = 1  \n",
    "    data.loc[data[\"Age\"] > 35, \"Age\"] = 2  \n",
    "    \n",
    "    \"\"\"\n",
    "    Fare = data[\"Fare\"].values\n",
    "    Fare = Fare.reshape(-1, 1)\n",
    "    km = KMeans(n_clusters=7)\n",
    "    fare_fit = km.fit(Fare)\n",
    "    \n",
    "    print(fare_fit.labels_)\n",
    "    # 可视化聚类\n",
    "    plt.scatter(data[\"Fare\"], data[\"Fare\"], c=fare_fit.labels_, cmap=\"rainbow\")\n",
    "    plt.colorbar(label=\"Cluster Labels\")\n",
    "    plt.xlabel(\"Fare\")\n",
    "    plt.ylabel(\"Fare\")\n",
    "    plt.title(\"KMeans Clustering of Fare\")\n",
    "    plt.show()\n",
    "    \"\"\"\n",
    "    \n",
    "    # 处理票价特征\n",
    "    data[\"Fare\"] = data[\"Fare\"].fillna(data[\"Fare\"].median())\n",
    "    data.loc[data[\"Fare\"] <= 5, \"Fare\"] = 0\n",
    "    data.loc[(data[\"Fare\"] > 5) & (data[\"Fare\"] <= 15), \"Fare\"] = 1\n",
    "    data.loc[(data[\"Fare\"] > 15) & (data[\"Fare\"] <= 25), \"Fare\"] = 2\n",
    "    data.loc[(data[\"Fare\"] > 25) & (data[\"Fare\"] <= 50), \"Fare\"] = 3\n",
    "    data.loc[(data[\"Fare\"] > 50) & (data[\"Fare\"] <= 100), \"Fare\"] = 4\n",
    "    data.loc[(data[\"Fare\"] > 100) & (data[\"Fare\"] <= 250), \"Fare\"] = 5\n",
    "    data.loc[data[\"Fare\"] > 250, \"Fare\"] = 6\n",
    "\n",
    "    \n",
    "    data[\"Cabin\"] = data[\"Cabin\"].astype(int)\n",
    "    data[\"Fare\"] = data[\"Fare\"].astype(int)\n",
    "    data[\"Age\"] = data[\"Age\"].astype(int)\n",
    "    data[\"Sex\"] = data[\"Sex\"].astype(int)\n",
    "    data[\"Pclass\"] = data[\"Pclass\"].astype(int)\n",
    "    data[\"Survived\"] = data[\"Survived\"].astype(int)\n",
    "\n",
    "    cols = [\"Pclass\", \"Sex\", \"Age\", \"Fare\", \"Cabin\", \"Survived\"]\n",
    "    return data[cols]\n",
    "\n",
    "\n",
    "preprocess_for_Bayesian(data)"
   ]
  },
  {
   "cell_type": "code",
   "execution_count": 347,
   "metadata": {},
   "outputs": [],
   "source": [
    "from graphviz import Digraph\n",
    "\n",
    "# 可视化贝叶斯网络模型\n",
    "def showBN(model, save=False):\n",
    "    \"\"\"传入BayesianModel对象，调用graphviz绘制结构图，jupyter中可直接显示\"\"\"\n",
    "\n",
    "    node_attr = dict(\n",
    "        style=\"filled\",\n",
    "        shape=\"box\",\n",
    "        align=\"left\",\n",
    "        fontsize=\"12\",\n",
    "        ranksep=\"0.1\",\n",
    "        height=\"0.2\",\n",
    "        fillcolor=\"#B5C4DE\", \n",
    "        color=\"#6B5B95\",  \n",
    "    )\n",
    "    dot = Digraph(node_attr=node_attr, graph_attr=dict(size=\"12,12\"))\n",
    "    seen = set()\n",
    "    edges = model.edges()\n",
    "    for a, b in edges:\n",
    "        dot.edge(a, b,color='#A23B72')\n",
    "    if save:\n",
    "        dot.view(cleanup=True)\n",
    "    return dot\n",
    "\n"
   ]
  },
  {
   "cell_type": "markdown",
   "metadata": {},
   "source": [
    "# 设计贝叶斯网络(初步尝试)"
   ]
  },
  {
   "cell_type": "code",
   "execution_count": 348,
   "metadata": {},
   "outputs": [
    {
     "data": {
      "application/vnd.jupyter.widget-view+json": {
       "model_id": "9588dcd2498c448694b17cbff8c42dfc",
       "version_major": 2,
       "version_minor": 0
      },
      "text/plain": [
       "  0%|          | 0/1000000 [00:00<?, ?it/s]"
      ]
     },
     "metadata": {},
     "output_type": "display_data"
    },
    {
     "data": {
      "application/vnd.jupyter.widget-view+json": {
       "model_id": "a086a8504c634c128cae3ccd34b749c8",
       "version_major": 2,
       "version_minor": 0
      },
      "text/plain": [
       "  0%|          | 0/1000000 [00:00<?, ?it/s]"
      ]
     },
     "metadata": {},
     "output_type": "display_data"
    }
   ],
   "source": [
    "from sklearn.model_selection import train_test_split\n",
    "from pgmpy.models import BayesianNetwork\n",
    "from pgmpy.estimators import MaximumLikelihoodEstimator, BayesianEstimator\n",
    "from pgmpy.inference import VariableElimination\n",
    "\n",
    "\n",
    "# 划分数据集\n",
    "all_data = preprocess_for_Bayesian(data)\n",
    "X = all_data.iloc[:, :-1]\n",
    "y = all_data.iloc[:, -1]\n",
    "train, test= all_data.iloc[:int(len(all_data)*0.8),:], all_data.iloc[int(len(all_data)*0.8):,:]\n",
    "\n",
    "# 设计贝叶斯网络（初步尝试）\n",
    "model = BayesianNetwork()\n",
    "\n",
    "edges = [\n",
    "    (\"Pclass\", \"Survived\"),\n",
    "    (\"Sex\", \"Survived\"),\n",
    "    (\"Age\", \"Survived\"),\n",
    "    (\"Fare\", \"Survived\"),\n",
    "    (\"Cabin\", \"Survived\"),\n",
    "]\n",
    "model.add_edges_from(edges)\n",
    "\n",
    "\n",
    "# 选取最佳模型结构\n",
    "from pgmpy.estimators import HillClimbSearch\n",
    "from pgmpy.estimators import BicScore\n",
    "\n",
    "train = preprocess_for_Bayesian(data)\n",
    "hc = HillClimbSearch(train)\n",
    "best_model = hc.estimate(scoring_method=BicScore(train))\n",
    "best_model = hc.estimate()\n",
    "\n",
    "\n"
   ]
  },
  {
   "cell_type": "markdown",
   "metadata": {},
   "source": [
    "# 可视化贝叶斯网络"
   ]
  },
  {
   "cell_type": "code",
   "execution_count": 349,
   "metadata": {},
   "outputs": [
    {
     "data": {
      "image/svg+xml": [
       "<?xml version=\"1.0\" encoding=\"UTF-8\" standalone=\"no\"?>\n",
       "<!DOCTYPE svg PUBLIC \"-//W3C//DTD SVG 1.1//EN\"\n",
       " \"http://www.w3.org/Graphics/SVG/1.1/DTD/svg11.dtd\">\n",
       "<!-- Generated by graphviz version 10.0.1 (20240210.2158)\n",
       " -->\n",
       "<!-- Pages: 1 -->\n",
       "<svg width=\"350pt\" height=\"89pt\"\n",
       " viewBox=\"0.00 0.00 350.00 88.50\" xmlns=\"http://www.w3.org/2000/svg\" xmlns:xlink=\"http://www.w3.org/1999/xlink\">\n",
       "<g id=\"graph0\" class=\"graph\" transform=\"scale(1 1) rotate(0) translate(4 84.5)\">\n",
       "<polygon fill=\"white\" stroke=\"none\" points=\"-4,4 -4,-84.5 346,-84.5 346,4 -4,4\"/>\n",
       "<!-- Pclass -->\n",
       "<g id=\"node1\" class=\"node\">\n",
       "<title>Pclass</title>\n",
       "<polygon fill=\"#b5c4de\" stroke=\"#6b5b95\" points=\"54,-80.5 0,-80.5 0,-58.25 54,-58.25 54,-80.5\"/>\n",
       "<text text-anchor=\"middle\" x=\"27\" y=\"-65.1\" font-family=\"Times New Roman,serif\" font-size=\"12.00\">Pclass</text>\n",
       "</g>\n",
       "<!-- Survived -->\n",
       "<g id=\"node2\" class=\"node\">\n",
       "<title>Survived</title>\n",
       "<polygon fill=\"#b5c4de\" stroke=\"#6b5b95\" points=\"198.88,-22.25 143.12,-22.25 143.12,0 198.88,0 198.88,-22.25\"/>\n",
       "<text text-anchor=\"middle\" x=\"171\" y=\"-6.85\" font-family=\"Times New Roman,serif\" font-size=\"12.00\">Survived</text>\n",
       "</g>\n",
       "<!-- Pclass&#45;&gt;Survived -->\n",
       "<g id=\"edge1\" class=\"edge\">\n",
       "<title>Pclass&#45;&gt;Survived</title>\n",
       "<path fill=\"none\" stroke=\"#a23b72\" d=\"M54.09,-57.79C76.51,-49.03 108.62,-36.49 133.51,-26.77\"/>\n",
       "<polygon fill=\"#a23b72\" stroke=\"#a23b72\" points=\"134.59,-30.11 142.63,-23.21 132.04,-23.59 134.59,-30.11\"/>\n",
       "</g>\n",
       "<!-- Sex -->\n",
       "<g id=\"node3\" class=\"node\">\n",
       "<title>Sex</title>\n",
       "<polygon fill=\"#b5c4de\" stroke=\"#6b5b95\" points=\"126,-80.5 72,-80.5 72,-58.25 126,-58.25 126,-80.5\"/>\n",
       "<text text-anchor=\"middle\" x=\"99\" y=\"-65.1\" font-family=\"Times New Roman,serif\" font-size=\"12.00\">Sex</text>\n",
       "</g>\n",
       "<!-- Sex&#45;&gt;Survived -->\n",
       "<g id=\"edge2\" class=\"edge\">\n",
       "<title>Sex&#45;&gt;Survived</title>\n",
       "<path fill=\"none\" stroke=\"#a23b72\" d=\"M112.54,-57.79C122.7,-49.86 136.83,-38.82 148.65,-29.59\"/>\n",
       "<polygon fill=\"#a23b72\" stroke=\"#a23b72\" points=\"150.6,-32.5 156.33,-23.59 146.29,-26.99 150.6,-32.5\"/>\n",
       "</g>\n",
       "<!-- Age -->\n",
       "<g id=\"node4\" class=\"node\">\n",
       "<title>Age</title>\n",
       "<polygon fill=\"#b5c4de\" stroke=\"#6b5b95\" points=\"198,-80.5 144,-80.5 144,-58.25 198,-58.25 198,-80.5\"/>\n",
       "<text text-anchor=\"middle\" x=\"171\" y=\"-65.1\" font-family=\"Times New Roman,serif\" font-size=\"12.00\">Age</text>\n",
       "</g>\n",
       "<!-- Age&#45;&gt;Survived -->\n",
       "<g id=\"edge3\" class=\"edge\">\n",
       "<title>Age&#45;&gt;Survived</title>\n",
       "<path fill=\"none\" stroke=\"#a23b72\" d=\"M171,-57.79C171,-51.12 171,-42.24 171,-34.09\"/>\n",
       "<polygon fill=\"#a23b72\" stroke=\"#a23b72\" points=\"174.5,-34.17 171,-24.17 167.5,-34.17 174.5,-34.17\"/>\n",
       "</g>\n",
       "<!-- Fare -->\n",
       "<g id=\"node5\" class=\"node\">\n",
       "<title>Fare</title>\n",
       "<polygon fill=\"#b5c4de\" stroke=\"#6b5b95\" points=\"270,-80.5 216,-80.5 216,-58.25 270,-58.25 270,-80.5\"/>\n",
       "<text text-anchor=\"middle\" x=\"243\" y=\"-65.1\" font-family=\"Times New Roman,serif\" font-size=\"12.00\">Fare</text>\n",
       "</g>\n",
       "<!-- Fare&#45;&gt;Survived -->\n",
       "<g id=\"edge4\" class=\"edge\">\n",
       "<title>Fare&#45;&gt;Survived</title>\n",
       "<path fill=\"none\" stroke=\"#a23b72\" d=\"M229.46,-57.79C219.3,-49.86 205.17,-38.82 193.35,-29.59\"/>\n",
       "<polygon fill=\"#a23b72\" stroke=\"#a23b72\" points=\"195.71,-26.99 185.67,-23.59 191.4,-32.5 195.71,-26.99\"/>\n",
       "</g>\n",
       "<!-- Cabin -->\n",
       "<g id=\"node6\" class=\"node\">\n",
       "<title>Cabin</title>\n",
       "<polygon fill=\"#b5c4de\" stroke=\"#6b5b95\" points=\"342,-80.5 288,-80.5 288,-58.25 342,-58.25 342,-80.5\"/>\n",
       "<text text-anchor=\"middle\" x=\"315\" y=\"-65.1\" font-family=\"Times New Roman,serif\" font-size=\"12.00\">Cabin</text>\n",
       "</g>\n",
       "<!-- Cabin&#45;&gt;Survived -->\n",
       "<g id=\"edge5\" class=\"edge\">\n",
       "<title>Cabin&#45;&gt;Survived</title>\n",
       "<path fill=\"none\" stroke=\"#a23b72\" d=\"M287.91,-57.79C265.49,-49.03 233.38,-36.49 208.49,-26.77\"/>\n",
       "<polygon fill=\"#a23b72\" stroke=\"#a23b72\" points=\"209.96,-23.59 199.37,-23.21 207.41,-30.11 209.96,-23.59\"/>\n",
       "</g>\n",
       "</g>\n",
       "</svg>\n"
      ],
      "text/plain": [
       "<graphviz.graphs.Digraph at 0x1a2c4f04640>"
      ]
     },
     "execution_count": 349,
     "metadata": {},
     "output_type": "execute_result"
    },
    {
     "data": {
      "image/svg+xml": [
       "<?xml version=\"1.0\" encoding=\"UTF-8\" standalone=\"no\"?>\n",
       "<!DOCTYPE svg PUBLIC \"-//W3C//DTD SVG 1.1//EN\"\n",
       " \"http://www.w3.org/Graphics/SVG/1.1/DTD/svg11.dtd\">\n",
       "<!-- Generated by graphviz version 10.0.1 (20240210.2158)\n",
       " -->\n",
       "<!-- Pages: 1 -->\n",
       "<svg width=\"217pt\" height=\"322pt\"\n",
       " viewBox=\"0.00 0.00 217.17 321.50\" xmlns=\"http://www.w3.org/2000/svg\" xmlns:xlink=\"http://www.w3.org/1999/xlink\">\n",
       "<g id=\"graph0\" class=\"graph\" transform=\"scale(1 1) rotate(0) translate(4 317.5)\">\n",
       "<polygon fill=\"white\" stroke=\"none\" points=\"-4,4 -4,-317.5 213.17,-317.5 213.17,4 -4,4\"/>\n",
       "<!-- Pclass -->\n",
       "<g id=\"node1\" class=\"node\">\n",
       "<title>Pclass</title>\n",
       "<polygon fill=\"#b5c4de\" stroke=\"#6b5b95\" points=\"71.17,-255.25 17.17,-255.25 17.17,-233 71.17,-233 71.17,-255.25\"/>\n",
       "<text text-anchor=\"middle\" x=\"44.17\" y=\"-239.85\" font-family=\"Times New Roman,serif\" font-size=\"12.00\">Pclass</text>\n",
       "</g>\n",
       "<!-- Cabin -->\n",
       "<g id=\"node2\" class=\"node\">\n",
       "<title>Cabin</title>\n",
       "<polygon fill=\"#b5c4de\" stroke=\"#6b5b95\" points=\"181.17,-197 127.17,-197 127.17,-174.75 181.17,-174.75 181.17,-197\"/>\n",
       "<text text-anchor=\"middle\" x=\"154.17\" y=\"-181.6\" font-family=\"Times New Roman,serif\" font-size=\"12.00\">Cabin</text>\n",
       "</g>\n",
       "<!-- Pclass&#45;&gt;Cabin -->\n",
       "<g id=\"edge1\" class=\"edge\">\n",
       "<title>Pclass&#45;&gt;Cabin</title>\n",
       "<path fill=\"none\" stroke=\"#a23b72\" d=\"M64.86,-232.54C81.37,-224.1 104.76,-212.14 123.46,-202.58\"/>\n",
       "<polygon fill=\"#a23b72\" stroke=\"#a23b72\" points=\"124.91,-205.77 132.22,-198.1 121.72,-199.53 124.91,-205.77\"/>\n",
       "</g>\n",
       "<!-- Survived -->\n",
       "<g id=\"node3\" class=\"node\">\n",
       "<title>Survived</title>\n",
       "<polygon fill=\"#b5c4de\" stroke=\"#6b5b95\" points=\"79.04,-80.5 23.29,-80.5 23.29,-58.25 79.04,-58.25 79.04,-80.5\"/>\n",
       "<text text-anchor=\"middle\" x=\"51.17\" y=\"-65.1\" font-family=\"Times New Roman,serif\" font-size=\"12.00\">Survived</text>\n",
       "</g>\n",
       "<!-- Pclass&#45;&gt;Survived -->\n",
       "<g id=\"edge2\" class=\"edge\">\n",
       "<title>Pclass&#45;&gt;Survived</title>\n",
       "<path fill=\"none\" stroke=\"#a23b72\" d=\"M44.59,-232.58C45.72,-204.8 48.78,-129.22 50.3,-91.86\"/>\n",
       "<polygon fill=\"#a23b72\" stroke=\"#a23b72\" points=\"53.78,-92.43 50.68,-82.3 46.78,-92.15 53.78,-92.43\"/>\n",
       "</g>\n",
       "<!-- Age -->\n",
       "<g id=\"node4\" class=\"node\">\n",
       "<title>Age</title>\n",
       "<polygon fill=\"#b5c4de\" stroke=\"#6b5b95\" points=\"134.17,-22.25 80.17,-22.25 80.17,0 134.17,0 134.17,-22.25\"/>\n",
       "<text text-anchor=\"middle\" x=\"107.17\" y=\"-6.85\" font-family=\"Times New Roman,serif\" font-size=\"12.00\">Age</text>\n",
       "</g>\n",
       "<!-- Pclass&#45;&gt;Age -->\n",
       "<g id=\"edge3\" class=\"edge\">\n",
       "<title>Pclass&#45;&gt;Age</title>\n",
       "<path fill=\"none\" stroke=\"#a23b72\" d=\"M37.88,-232.56C21.01,-202.68 -21.66,-116 14.17,-58.25 26.19,-38.87 49.06,-27.37 69.1,-20.71\"/>\n",
       "<polygon fill=\"#a23b72\" stroke=\"#a23b72\" points=\"69.84,-24.14 78.42,-17.92 67.83,-17.44 69.84,-24.14\"/>\n",
       "</g>\n",
       "<!-- Sex -->\n",
       "<g id=\"node5\" class=\"node\">\n",
       "<title>Sex</title>\n",
       "<polygon fill=\"#b5c4de\" stroke=\"#6b5b95\" points=\"126.17,-138.75 72.17,-138.75 72.17,-116.5 126.17,-116.5 126.17,-138.75\"/>\n",
       "<text text-anchor=\"middle\" x=\"99.17\" y=\"-123.35\" font-family=\"Times New Roman,serif\" font-size=\"12.00\">Sex</text>\n",
       "</g>\n",
       "<!-- Pclass&#45;&gt;Sex -->\n",
       "<g id=\"edge4\" class=\"edge\">\n",
       "<title>Pclass&#45;&gt;Sex</title>\n",
       "<path fill=\"none\" stroke=\"#a23b72\" d=\"M49.24,-232.56C58.29,-213.73 77.35,-174.05 89.12,-149.53\"/>\n",
       "<polygon fill=\"#a23b72\" stroke=\"#a23b72\" points=\"92.27,-151.06 93.45,-140.53 85.96,-148.03 92.27,-151.06\"/>\n",
       "</g>\n",
       "<!-- Cabin&#45;&gt;Age -->\n",
       "<g id=\"edge10\" class=\"edge\">\n",
       "<title>Cabin&#45;&gt;Age</title>\n",
       "<path fill=\"none\" stroke=\"#a23b72\" d=\"M151.3,-174.33C143.74,-146.55 123.18,-70.97 113.01,-33.61\"/>\n",
       "<polygon fill=\"#a23b72\" stroke=\"#a23b72\" points=\"116.4,-32.72 110.4,-23.99 109.64,-34.56 116.4,-32.72\"/>\n",
       "</g>\n",
       "<!-- Cabin&#45;&gt;Sex -->\n",
       "<g id=\"edge11\" class=\"edge\">\n",
       "<title>Cabin&#45;&gt;Sex</title>\n",
       "<path fill=\"none\" stroke=\"#a23b72\" d=\"M143.82,-174.29C136.37,-166.67 126.12,-156.19 117.32,-147.19\"/>\n",
       "<polygon fill=\"#a23b72\" stroke=\"#a23b72\" points=\"120.02,-144.94 110.52,-140.24 115.01,-149.84 120.02,-144.94\"/>\n",
       "</g>\n",
       "<!-- Survived&#45;&gt;Age -->\n",
       "<g id=\"edge12\" class=\"edge\">\n",
       "<title>Survived&#45;&gt;Age</title>\n",
       "<path fill=\"none\" stroke=\"#a23b72\" d=\"M61.7,-57.79C69.29,-50.17 79.72,-39.69 88.68,-30.69\"/>\n",
       "<polygon fill=\"#a23b72\" stroke=\"#a23b72\" points=\"91.04,-33.29 95.61,-23.73 86.08,-28.35 91.04,-33.29\"/>\n",
       "</g>\n",
       "<!-- Sex&#45;&gt;Survived -->\n",
       "<g id=\"edge5\" class=\"edge\">\n",
       "<title>Sex&#45;&gt;Survived</title>\n",
       "<path fill=\"none\" stroke=\"#a23b72\" d=\"M90.14,-116.04C83.77,-108.58 75.06,-98.37 67.49,-89.5\"/>\n",
       "<polygon fill=\"#a23b72\" stroke=\"#a23b72\" points=\"70.29,-87.39 61.14,-82.06 64.97,-91.94 70.29,-87.39\"/>\n",
       "</g>\n",
       "<!-- Sex&#45;&gt;Age -->\n",
       "<g id=\"edge6\" class=\"edge\">\n",
       "<title>Sex&#45;&gt;Age</title>\n",
       "<path fill=\"none\" stroke=\"#a23b72\" d=\"M99.9,-116.06C101.2,-97.48 103.92,-58.62 105.64,-34.04\"/>\n",
       "<polygon fill=\"#a23b72\" stroke=\"#a23b72\" points=\"109.12,-34.4 106.32,-24.18 102.14,-33.91 109.12,-34.4\"/>\n",
       "</g>\n",
       "<!-- Fare -->\n",
       "<g id=\"node6\" class=\"node\">\n",
       "<title>Fare</title>\n",
       "<polygon fill=\"#b5c4de\" stroke=\"#6b5b95\" points=\"126.17,-313.5 72.17,-313.5 72.17,-291.25 126.17,-291.25 126.17,-313.5\"/>\n",
       "<text text-anchor=\"middle\" x=\"99.17\" y=\"-298.1\" font-family=\"Times New Roman,serif\" font-size=\"12.00\">Fare</text>\n",
       "</g>\n",
       "<!-- Fare&#45;&gt;Pclass -->\n",
       "<g id=\"edge7\" class=\"edge\">\n",
       "<title>Fare&#45;&gt;Pclass</title>\n",
       "<path fill=\"none\" stroke=\"#a23b72\" d=\"M88.82,-290.79C81.37,-283.17 71.12,-272.69 62.32,-263.69\"/>\n",
       "<polygon fill=\"#a23b72\" stroke=\"#a23b72\" points=\"65.02,-261.44 55.52,-256.74 60.01,-266.34 65.02,-261.44\"/>\n",
       "</g>\n",
       "<!-- Fare&#45;&gt;Age -->\n",
       "<g id=\"edge8\" class=\"edge\">\n",
       "<title>Fare&#45;&gt;Age</title>\n",
       "<path fill=\"none\" stroke=\"#a23b72\" d=\"M121.43,-290.78C153.57,-273.75 209.17,-237.04 209.17,-186.88 209.17,-186.88 209.17,-186.88 209.17,-126.62 209.17,-82.62 166.63,-47.7 136.5,-28.48\"/>\n",
       "<polygon fill=\"#a23b72\" stroke=\"#a23b72\" points=\"138.48,-25.59 128.12,-23.37 134.83,-31.57 138.48,-25.59\"/>\n",
       "</g>\n",
       "<!-- Fare&#45;&gt;Sex -->\n",
       "<g id=\"edge9\" class=\"edge\">\n",
       "<title>Fare&#45;&gt;Sex</title>\n",
       "<path fill=\"none\" stroke=\"#a23b72\" d=\"M99.17,-290.83C99.17,-263.05 99.17,-187.47 99.17,-150.11\"/>\n",
       "<polygon fill=\"#a23b72\" stroke=\"#a23b72\" points=\"102.67,-150.55 99.17,-140.55 95.67,-150.55 102.67,-150.55\"/>\n",
       "</g>\n",
       "</g>\n",
       "</svg>\n"
      ],
      "text/plain": [
       "<graphviz.graphs.Digraph at 0x1a3019a8310>"
      ]
     },
     "execution_count": 349,
     "metadata": {},
     "output_type": "execute_result"
    },
    {
     "data": {
      "text/plain": [
       "OutEdgeView([('Pclass', 'Cabin'), ('Pclass', 'Survived'), ('Pclass', 'Age'), ('Pclass', 'Sex'), ('Sex', 'Survived'), ('Sex', 'Age'), ('Fare', 'Pclass'), ('Fare', 'Age'), ('Fare', 'Sex'), ('Cabin', 'Age'), ('Cabin', 'Sex'), ('Survived', 'Age')])"
      ]
     },
     "execution_count": 349,
     "metadata": {},
     "output_type": "execute_result"
    },
    {
     "data": {
      "text/plain": [
       "NodeView(('Pclass', 'Sex', 'Age', 'Fare', 'Cabin', 'Survived'))"
      ]
     },
     "execution_count": 349,
     "metadata": {},
     "output_type": "execute_result"
    }
   ],
   "source": [
    "showBN(model) # 自己设计的\n",
    "showBN(best_model, save=True) # 最佳模型结构\n",
    "best_model.edges() # 最佳模型的边\n",
    "best_model.nodes() # 最佳模型的节点"
   ]
  },
  {
   "cell_type": "markdown",
   "metadata": {},
   "source": [
    "# 训练模型"
   ]
  },
  {
   "cell_type": "code",
   "execution_count": 350,
   "metadata": {},
   "outputs": [
    {
     "name": "stdout",
     "output_type": "stream",
     "text": [
      "所有 CPD 已以 JSON 格式保存。\n"
     ]
    },
    {
     "data": {
      "application/vnd.jupyter.widget-view+json": {
       "model_id": "fad3bee4879642ffa9c89e0777f56dda",
       "version_major": 2,
       "version_minor": 0
      },
      "text/plain": [
       "  0%|          | 0/57 [00:00<?, ?it/s]"
      ]
     },
     "metadata": {},
     "output_type": "display_data"
    },
    {
     "name": "stdout",
     "output_type": "stream",
     "text": [
      "预测准确率: 0.8547486033519553\n"
     ]
    }
   ],
   "source": [
    "# 贝叶斯估计\n",
    "\n",
    "import json\n",
    "\n",
    "\n",
    "best_1 = BayesianNetwork(best_model.edges())\n",
    "best_1.fit(train, estimator=BayesianEstimator, prior_type=\"BDeu\")\n",
    "\n",
    "# 创建一个字典以保存所有 CPD\n",
    "cpds = {}\n",
    "\n",
    "# 打印所有变量的条件概率分布并将其保存为 JSON\n",
    "for cpd in best_1.get_cpds():\n",
    "    cpds[cpd.variable] = {\n",
    "        \"values\": cpd.values.tolist(),  # 获取 CPD 的值\n",
    "        \"states\": cpd.state_names,  # 获取 CPD 的状态名称\n",
    "    }\n",
    "\n",
    "# 将 CPD 字典保存为 JSON 文件\n",
    "with open(\"cpd_data.json\", \"w\") as json_file:\n",
    "    json.dump(\n",
    "        cpds,\n",
    "        json_file,\n",
    "        indent=4,\n",
    "        default=lambda x: x.tolist() if hasattr(x, \"tolist\") else x,\n",
    "    )\n",
    "\n",
    "print(\"所有 CPD 已以 JSON 格式保存。\")\n",
    "\n",
    "\n",
    "# 预测\n",
    "predict_data = test.drop(\"Survived\", axis=1)\n",
    "y_pred = best_1.predict(predict_data)\n",
    "\n",
    "predicted_survived = y_pred[\"Survived\"]\n",
    "actual_survived = test[\"Survived\"].reset_index(drop=True)\n",
    "predicted_survived = predicted_survived.reset_index(drop=True)\n",
    "\n",
    "# 计算预测准确率\n",
    "accuracy = (predicted_survived == actual_survived).sum() / len(actual_survived)\n",
    "print(f\"预测准确率: {accuracy}\")"
   ]
  },
  {
   "cell_type": "code",
   "execution_count": 351,
   "metadata": {},
   "outputs": [
    {
     "data": {
      "application/vnd.jupyter.widget-view+json": {
       "model_id": "16fc892083fb447292887719d9ba1eba",
       "version_major": 2,
       "version_minor": 0
      },
      "text/plain": [
       "  0%|          | 0/57 [00:00<?, ?it/s]"
      ]
     },
     "metadata": {},
     "output_type": "display_data"
    },
    {
     "name": "stdout",
     "output_type": "stream",
     "text": [
      "预测准确率: 0.8547486033519553\n"
     ]
    }
   ],
   "source": [
    "# 最大似然估计\n",
    "best_2 = BayesianNetwork(best_model.edges())\n",
    "best_2.fit(train, estimator=MaximumLikelihoodEstimator)\n",
    "predict_data = test.drop(\"Survived\", axis=1)\n",
    "y_pred = best_2.predict(predict_data)\n",
    "\n",
    "predicted_survived = y_pred[\"Survived\"]\n",
    "actual_survived = test[\"Survived\"].reset_index(drop=True)\n",
    "predicted_survived = predicted_survived.reset_index(drop=True)\n",
    "\n",
    "# 计算预测准确率\n",
    "accuracy = (predicted_survived == actual_survived).sum() / len(actual_survived)\n",
    "print(f\"预测准确率: {accuracy}\")"
   ]
  },
  {
   "cell_type": "markdown",
   "metadata": {},
   "source": [
    "# MCMC 估计后验分布"
   ]
  },
  {
   "cell_type": "code",
   "execution_count": 352,
   "metadata": {},
   "outputs": [
    {
     "data": {
      "application/vnd.jupyter.widget-view+json": {
       "model_id": "295be14e9d334be69925c85bb7ca66dc",
       "version_major": 2,
       "version_minor": 0
      },
      "text/plain": [
       "  0%|          | 0/6 [00:00<?, ?it/s]"
      ]
     },
     "metadata": {},
     "output_type": "display_data"
    },
    {
     "name": "stderr",
     "output_type": "stream",
     "text": [
      "WARNING:pgmpy:Probability values don't exactly sum to 1. Differ by: -2.220446049250313e-16. Adjusting values.\n"
     ]
    },
    {
     "name": "stdout",
     "output_type": "stream",
     "text": [
      "     Pclass  Cabin  Survived  Age  Sex  Fare\n",
      "0         2      1         1    2    1     3\n",
      "1         3      0         0    1    1     1\n",
      "2         2      1         1    0    0     3\n",
      "3         2      1         0    2    1     3\n",
      "4         1      1         0    2    1     3\n",
      "..      ...    ...       ...  ...  ...   ...\n",
      "995       2      1         0    0    1     1\n",
      "996       3      0         0    2    1     1\n",
      "997       1      1         1    1    0     5\n",
      "998       3      0         1    0    0     2\n",
      "999       2      0         1    2    1     5\n",
      "\n",
      "[1000 rows x 6 columns]\n"
     ]
    }
   ],
   "source": [
    "from pgmpy.inference import VariableElimination\n",
    "from pgmpy.models import BayesianModel\n",
    "from pgmpy.sampling import BayesianModelSampling\n",
    "from pgmpy.factors.discrete import TabularCPD\n",
    "\n",
    "# 进行采样\n",
    "sampling = BayesianModelSampling(best_1)\n",
    "samples = sampling.forward_sample(size=1000)  # 采样1000个样本\n",
    "\n",
    "# 分析后验分布\n",
    "print(samples)\n"
   ]
  },
  {
   "cell_type": "code",
   "execution_count": 353,
   "metadata": {},
   "outputs": [
    {
     "data": {
      "text/plain": [
       "<Axes: title={'center': 'Pclass Posterior Distribution'}, xlabel='Pclass', ylabel='Probability'>"
      ]
     },
     "execution_count": 353,
     "metadata": {},
     "output_type": "execute_result"
    },
    {
     "data": {
      "text/plain": [
       "Text(0.0, 0.558, '0.5580')"
      ]
     },
     "execution_count": 353,
     "metadata": {},
     "output_type": "execute_result"
    },
    {
     "data": {
      "text/plain": [
       "Text(1.0, 0.242, '0.2420')"
      ]
     },
     "execution_count": 353,
     "metadata": {},
     "output_type": "execute_result"
    },
    {
     "data": {
      "text/plain": [
       "Text(2.0, 0.2, '0.2000')"
      ]
     },
     "execution_count": 353,
     "metadata": {},
     "output_type": "execute_result"
    },
    {
     "data": {
      "text/plain": [
       "Text(0.5, 0, 'Pclass')"
      ]
     },
     "execution_count": 353,
     "metadata": {},
     "output_type": "execute_result"
    },
    {
     "data": {
      "text/plain": [
       "Text(0, 0.5, 'Probability')"
      ]
     },
     "execution_count": 353,
     "metadata": {},
     "output_type": "execute_result"
    },
    {
     "data": {
      "text/plain": [
       "Text(0.5, 1.0, 'Pclass Posterior Distribution')"
      ]
     },
     "execution_count": 353,
     "metadata": {},
     "output_type": "execute_result"
    },
    {
     "data": {
      "text/plain": [
       "<Axes: title={'center': 'Sex Posterior Distribution'}, xlabel='Sex', ylabel='Probability'>"
      ]
     },
     "execution_count": 353,
     "metadata": {},
     "output_type": "execute_result"
    },
    {
     "data": {
      "text/plain": [
       "Text(0.0, 0.643, '0.6430')"
      ]
     },
     "execution_count": 353,
     "metadata": {},
     "output_type": "execute_result"
    },
    {
     "data": {
      "text/plain": [
       "Text(1.0, 0.357, '0.3570')"
      ]
     },
     "execution_count": 353,
     "metadata": {},
     "output_type": "execute_result"
    },
    {
     "data": {
      "text/plain": [
       "Text(0.5, 0, 'Sex')"
      ]
     },
     "execution_count": 353,
     "metadata": {},
     "output_type": "execute_result"
    },
    {
     "data": {
      "text/plain": [
       "Text(0, 0.5, 'Probability')"
      ]
     },
     "execution_count": 353,
     "metadata": {},
     "output_type": "execute_result"
    },
    {
     "data": {
      "text/plain": [
       "Text(0.5, 1.0, 'Sex Posterior Distribution')"
      ]
     },
     "execution_count": 353,
     "metadata": {},
     "output_type": "execute_result"
    },
    {
     "data": {
      "text/plain": [
       "<Axes: title={'center': 'Age Posterior Distribution'}, xlabel='Age', ylabel='Probability'>"
      ]
     },
     "execution_count": 353,
     "metadata": {},
     "output_type": "execute_result"
    },
    {
     "data": {
      "text/plain": [
       "Text(0.0, 0.494, '0.4940')"
      ]
     },
     "execution_count": 353,
     "metadata": {},
     "output_type": "execute_result"
    },
    {
     "data": {
      "text/plain": [
       "Text(1.0, 0.389, '0.3890')"
      ]
     },
     "execution_count": 353,
     "metadata": {},
     "output_type": "execute_result"
    },
    {
     "data": {
      "text/plain": [
       "Text(2.0, 0.117, '0.1170')"
      ]
     },
     "execution_count": 353,
     "metadata": {},
     "output_type": "execute_result"
    },
    {
     "data": {
      "text/plain": [
       "Text(0.5, 0, 'Age')"
      ]
     },
     "execution_count": 353,
     "metadata": {},
     "output_type": "execute_result"
    },
    {
     "data": {
      "text/plain": [
       "Text(0, 0.5, 'Probability')"
      ]
     },
     "execution_count": 353,
     "metadata": {},
     "output_type": "execute_result"
    },
    {
     "data": {
      "text/plain": [
       "Text(0.5, 1.0, 'Age Posterior Distribution')"
      ]
     },
     "execution_count": 353,
     "metadata": {},
     "output_type": "execute_result"
    },
    {
     "data": {
      "text/plain": [
       "<Axes: title={'center': 'Fare Posterior Distribution'}, xlabel='Fare', ylabel='Probability'>"
      ]
     },
     "execution_count": 353,
     "metadata": {},
     "output_type": "execute_result"
    },
    {
     "data": {
      "text/plain": [
       "Text(0.0, 0.5, '0.5000')"
      ]
     },
     "execution_count": 353,
     "metadata": {},
     "output_type": "execute_result"
    },
    {
     "data": {
      "text/plain": [
       "Text(1.0, 0.204, '0.2040')"
      ]
     },
     "execution_count": 353,
     "metadata": {},
     "output_type": "execute_result"
    },
    {
     "data": {
      "text/plain": [
       "Text(2.0, 0.116, '0.1160')"
      ]
     },
     "execution_count": 353,
     "metadata": {},
     "output_type": "execute_result"
    },
    {
     "data": {
      "text/plain": [
       "Text(3.0, 0.103, '0.1030')"
      ]
     },
     "execution_count": 353,
     "metadata": {},
     "output_type": "execute_result"
    },
    {
     "data": {
      "text/plain": [
       "Text(4.0, 0.047, '0.0470')"
      ]
     },
     "execution_count": 353,
     "metadata": {},
     "output_type": "execute_result"
    },
    {
     "data": {
      "text/plain": [
       "Text(5.0, 0.018, '0.0180')"
      ]
     },
     "execution_count": 353,
     "metadata": {},
     "output_type": "execute_result"
    },
    {
     "data": {
      "text/plain": [
       "Text(6.0, 0.012, '0.0120')"
      ]
     },
     "execution_count": 353,
     "metadata": {},
     "output_type": "execute_result"
    },
    {
     "data": {
      "text/plain": [
       "Text(0.5, 0, 'Fare')"
      ]
     },
     "execution_count": 353,
     "metadata": {},
     "output_type": "execute_result"
    },
    {
     "data": {
      "text/plain": [
       "Text(0, 0.5, 'Probability')"
      ]
     },
     "execution_count": 353,
     "metadata": {},
     "output_type": "execute_result"
    },
    {
     "data": {
      "text/plain": [
       "Text(0.5, 1.0, 'Fare Posterior Distribution')"
      ]
     },
     "execution_count": 353,
     "metadata": {},
     "output_type": "execute_result"
    },
    {
     "data": {
      "text/plain": [
       "<Axes: title={'center': 'Cabin Posterior Distribution'}, xlabel='Cabin', ylabel='Probability'>"
      ]
     },
     "execution_count": 353,
     "metadata": {},
     "output_type": "execute_result"
    },
    {
     "data": {
      "text/plain": [
       "Text(0.0, 0.588, '0.5880')"
      ]
     },
     "execution_count": 353,
     "metadata": {},
     "output_type": "execute_result"
    },
    {
     "data": {
      "text/plain": [
       "Text(1.0, 0.412, '0.4120')"
      ]
     },
     "execution_count": 353,
     "metadata": {},
     "output_type": "execute_result"
    },
    {
     "data": {
      "text/plain": [
       "Text(0.5, 0, 'Cabin')"
      ]
     },
     "execution_count": 353,
     "metadata": {},
     "output_type": "execute_result"
    },
    {
     "data": {
      "text/plain": [
       "Text(0, 0.5, 'Probability')"
      ]
     },
     "execution_count": 353,
     "metadata": {},
     "output_type": "execute_result"
    },
    {
     "data": {
      "text/plain": [
       "Text(0.5, 1.0, 'Cabin Posterior Distribution')"
      ]
     },
     "execution_count": 353,
     "metadata": {},
     "output_type": "execute_result"
    },
    {
     "data": {
      "text/plain": [
       "<Axes: title={'center': 'Survived Posterior Distribution'}, xlabel='Survived', ylabel='Probability'>"
      ]
     },
     "execution_count": 353,
     "metadata": {},
     "output_type": "execute_result"
    },
    {
     "data": {
      "text/plain": [
       "Text(0.0, 0.5, '0.5000')"
      ]
     },
     "execution_count": 353,
     "metadata": {},
     "output_type": "execute_result"
    },
    {
     "data": {
      "text/plain": [
       "Text(1.0, 0.5, '0.5000')"
      ]
     },
     "execution_count": 353,
     "metadata": {},
     "output_type": "execute_result"
    },
    {
     "data": {
      "text/plain": [
       "Text(0.5, 0, 'Survived')"
      ]
     },
     "execution_count": 353,
     "metadata": {},
     "output_type": "execute_result"
    },
    {
     "data": {
      "text/plain": [
       "Text(0, 0.5, 'Probability')"
      ]
     },
     "execution_count": 353,
     "metadata": {},
     "output_type": "execute_result"
    },
    {
     "data": {
      "text/plain": [
       "Text(0.5, 1.0, 'Survived Posterior Distribution')"
      ]
     },
     "execution_count": 353,
     "metadata": {},
     "output_type": "execute_result"
    },
    {
     "data": {
      "image/png": "[encoded data removed]",
      "text/plain": [
       "<Figure size 1500x1000 with 6 Axes>"
      ]
     },
     "metadata": {},
     "output_type": "display_data"
    }
   ],
   "source": [
    "import matplotlib.pyplot as plt\n",
    "\n",
    "cols = [\"Pclass\", \"Sex\", \"Age\", \"Fare\", \"Cabin\", \"Survived\"]\n",
    "\n",
    "# 设置图形的行数和列数\n",
    "n_cols = 3  # 每行显示 3 个图\n",
    "n_rows = 2  # 每列显示 2 个图\n",
    "\n",
    "# 创建子图\n",
    "fig, axes = plt.subplots(n_rows, n_cols, figsize=(15, n_rows * 5))\n",
    "axes = axes.flatten()  # 将多维数组扁平化以方便索引\n",
    "\n",
    "# 绘制每个特征的后验分布\n",
    "for idx, col in enumerate(cols):\n",
    "    # 计算后验分布\n",
    "    posterior_distribution = samples[col].value_counts(normalize=True)\n",
    "\n",
    "    # 绘制条形图\n",
    "    ax = axes[idx]\n",
    "    posterior_distribution.plot(\n",
    "        kind=\"bar\",\n",
    "        ax=ax,\n",
    "        title=f\"{col} Posterior Distribution\",\n",
    "        xlabel=col,\n",
    "        ylabel=\"Probability\",\n",
    "        color=\"#008080\",\n",
    "        fontsize=15,\n",
    "        rot=0\n",
    "    )\n",
    "    \n",
    "    # 在每个条形上方显示数值\n",
    "    for p in ax.patches:\n",
    "        ax.text(p.get_x() + p.get_width() / 2., p.get_height(), \n",
    "                f'{p.get_height():.4f}', \n",
    "                ha='center', va='bottom', fontsize=12)\n",
    "    # 增大坐标轴标签的字体大小\n",
    "    ax.set_xlabel(ax.get_xlabel(), fontsize=15)\n",
    "    ax.set_ylabel(ax.get_ylabel(), fontsize=15)\n",
    "    ax.set_title(f\"{col} Posterior Distribution\", fontsize=15)  # 图标题的字体大小为 15\n",
    "# 移除未使用的子图\n",
    "for j in range(idx + 1, len(axes)):\n",
    "    fig.delaxes(axes[j])\n",
    "\n",
    "plt.tight_layout()  # 自动调整子图间距\n",
    "plt.savefig(\"posterior_distribution.png\", dpi=300)  # 保存图片\n",
    "plt.show()\n"
   ]
  },
  {
   "cell_type": "markdown",
   "metadata": {},
   "source": [
    "# 保存模型"
   ]
  },
  {
   "cell_type": "code",
   "execution_count": 342,
   "metadata": {},
   "outputs": [],
   "source": [
    "best_1.save(\"best_model.bif\")"
   ]
  }
 ],
 "metadata": {
  "kernelspec": {
   "display_name": "homework",
   "language": "python",
   "name": "python3"
  },
  "language_info": {
   "codemirror_mode": {
    "name": "ipython",
    "version": 3
   },
   "file_extension": ".py",
   "mimetype": "text/x-python",
   "name": "python",
   "nbconvert_exporter": "python",
   "pygments_lexer": "ipython3",
   "version": "3.8.20"
  }
 },
 "nbformat": 4,
 "nbformat_minor": 2
}
