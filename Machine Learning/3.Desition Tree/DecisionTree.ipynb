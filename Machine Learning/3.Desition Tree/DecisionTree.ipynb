{
 "cells": [
  {
   "cell_type": "markdown",
   "metadata": {},
   "source": [
    "## 用决策树模型完成分类问题"
   ]
  },
  {
   "cell_type": "markdown",
   "metadata": {},
   "source": [
    "#### 把需要的工具库import进来"
   ]
  },
  {
   "cell_type": "code",
   "execution_count": 1,
   "metadata": {
    "collapsed": true
   },
   "outputs": [],
   "source": [
    "import pandas as pd\n",
    "from sklearn import preprocessing\n",
    "from sklearn import tree\n",
    "from sklearn.metrics import accuracy_score"
   ]
  },
  {
   "cell_type": "code",
   "execution_count": 2,
   "metadata": {},
   "outputs": [],
   "source": [
    "# 显示整个cell的输出，而不需print()\n",
    "from IPython.core.interactiveshell import InteractiveShell\n",
    "InteractiveShell.ast_node_interactivity = \"all\""
   ]
  },
  {
   "cell_type": "code",
   "execution_count": 3,
   "metadata": {},
   "outputs": [],
   "source": [
    "import numpy as np\n",
    "\n",
    "\n",
    "def calculate_acceleration(trajectory):\n",
    "    # 假设trajectory是一系列经纬度点，计算加速度\n",
    "    if len(trajectory) < 2:\n",
    "        return 0, 0  # 如果轨迹点少于2个，则返回零加速度和角速度\n",
    "    positions = np.array(trajectory)  # 转换为numpy数组\n",
    "\n",
    "    # 计算速度（单位: m/s）\n",
    "    distances = np.sqrt(np.sum(np.diff(positions, axis=0) ** 2, axis=1))  # 计算相邻点间的距离\n",
    "    time_intervals = 30  # 时间间隔为30秒\n",
    "    speeds = distances / time_intervals\n",
    "\n",
    "    # 计算加速度（单位: m/s^2）\n",
    "    accelerations = np.diff(speeds) / time_intervals\n",
    "\n",
    "    # 计算角速度\n",
    "    angles = np.arctan2(np.diff(positions[:, 1]), np.diff(positions[:, 0]))\n",
    "    angular_velocities = np.diff(angles) / time_intervals\n",
    "\n",
    "    # 返回最后一个加速度和角速度（可以选择其他方式合并）\n",
    "    return accelerations[-1] if len(accelerations) > 0 else 0, angular_velocities[-1] if len(angular_velocities) > 0 else 0"
   ]
  },
  {
   "cell_type": "markdown",
   "metadata": {},
   "source": [
    "#### 读取数据"
   ]
  },
  {
   "cell_type": "code",
   "execution_count": 4,
   "metadata": {
    "collapsed": true
   },
   "outputs": [
    {
     "name": "stdout",
     "output_type": "stream",
     "text": [
      "文件 F:\\WangYT\\ship\\VERIFY\\augmented_sample.csv 读取成功, 共 100200 条数据.\n",
      "(100200, 18)\n",
      "838    168\n",
      "835    168\n",
      "825    168\n",
      "826    168\n",
      "827    168\n",
      "      ... \n",
      "281     60\n",
      "280     60\n",
      "279     60\n",
      "278     60\n",
      "250     60\n",
      "Name: spec_index, Length: 900, dtype: int64\n"
     ]
    },
    {
     "name": "stderr",
     "output_type": "stream",
     "text": [
      "e:\\Anaconda\\envs\\project\\lib\\site-packages\\ipykernel_launcher.py:31: FutureWarning: casting datetime64[ns] values to int64 with .astype(...) is deprecated and will raise in a future version. Use .view(...) instead.\n"
     ]
    },
    {
     "name": "stdout",
     "output_type": "stream",
     "text": [
      "(100200, 30)\n",
      "(100200, 36)\n",
      "827    137\n",
      "803    135\n",
      "816    134\n",
      "830    134\n",
      "810    134\n",
      "      ... \n",
      "264     43\n",
      "252     41\n",
      "258     41\n",
      "251     41\n",
      "293     41\n",
      "Name: spec_index, Length: 900, dtype: int64\n"
     ]
    }
   ],
   "source": [
    "from ast import literal_eval\n",
    "import pandas as pd\n",
    "import numpy as np\n",
    "\n",
    "# adult_data = pd.read_csv(\"./DecisionTree.csv\")\n",
    "\n",
    "from sklearn.preprocessing import LabelEncoder\n",
    "\n",
    "pd.set_option(\"display.max_columns\", None)\n",
    "\n",
    "\n",
    "def read_csv_by_pandas(filename):\n",
    "    try:\n",
    "        df = pd.read_csv(filename)\n",
    "        df = df.dropna()\n",
    "        # df['your_column'] = pd.to_numeric(df['your_column'], errors='coerce')\n",
    "        print(f\"文件 {filename} 读取成功, 共 {len(df)} 条数据.\")\n",
    "        print(df.shape)\n",
    "        print(df[\"spec_index\"].value_counts())\n",
    "        \n",
    "    except Exception as e:\n",
    "        print(f\"读取文件时出错: {e}\")\n",
    "        return None\n",
    "\n",
    "    label_encoder = LabelEncoder()\n",
    "\n",
    "    for column in [\"ship_id\",\"ship_true\", \"ship_type\"]:\n",
    "        df[column] = label_encoder.fit_transform(df[column])\n",
    "\n",
    "    try:\n",
    "        df[\"time\"] = pd.to_datetime(df[\"time\"]).astype(\"int64\")\n",
    "        df[\"weapons\"] = df[\"weapons\"].apply(literal_eval)\n",
    "        df[\"trajectory\"] = df[\"trajectory\"].apply(literal_eval)\n",
    "        df[\"score\"] = df[\"score\"].apply(literal_eval)\n",
    "    except Exception as e:\n",
    "        print(f\"数据处理时出错: {e}\")\n",
    "        return None\n",
    "\n",
    "    # 使用 assign 精简代码\n",
    "    weapons_dummies = df[\"weapons\"].apply(lambda x: pd.Series(1, index=x)).fillna(0)\n",
    "    df = pd.concat([df, weapons_dummies], axis=1).drop(columns=[\"weapons\"])\n",
    "    print(df.shape)\n",
    "    # 提取分数列\n",
    "    score_cols = [\n",
    "        \"reconnaissance_score\",\n",
    "        \"precision_score\",\n",
    "        \"intercept_score\",\n",
    "        \"jamming_score\",\n",
    "    ]\n",
    "    df[score_cols] = pd.DataFrame(df[\"score\"].tolist(), index=df.index)\n",
    "\n",
    "    df[[\"acceleration\", \"angular_velocity\"]] = (\n",
    "        df[\"trajectory\"].apply(calculate_acceleration).apply(pd.Series)\n",
    "    )\n",
    "    \n",
    "    print(df.shape)\n",
    "    df['trajectory'] = df['trajectory'].apply(lambda x: str(x))\n",
    "    # 删除原始轨迹列和重复数据\n",
    "    df = df.drop(columns=[\"score\"])\n",
    "    df = df.drop_duplicates(subset=[\"trajectory\",\"ship_id\",\"ship_true\"],keep=\"last\",ignore_index=True)\n",
    "    print(df[\"spec_index\"].value_counts())\n",
    "    return df\n",
    "\n",
    "\n",
    "data = read_csv_by_pandas(\"F:\\\\WangYT\\\\ship\\VERIFY\\\\augmented_sample.csv\")\n",
    "# test_data = read_csv_by_pandas(\"F:\\\\WangYT\\\\ship\\\\DATA\\\\sample\\\\test.csv\")"
   ]
  },
  {
   "cell_type": "code",
   "execution_count": 5,
   "metadata": {},
   "outputs": [
    {
     "data": {
      "text/html": [
       "<div>\n",
       "<style scoped>\n",
       "    .dataframe tbody tr th:only-of-type {\n",
       "        vertical-align: middle;\n",
       "    }\n",
       "\n",
       "    .dataframe tbody tr th {\n",
       "        vertical-align: top;\n",
       "    }\n",
       "\n",
       "    .dataframe thead th {\n",
       "        text-align: right;\n",
       "    }\n",
       "</style>\n",
       "<table border=\"1\" class=\"dataframe\">\n",
       "  <thead>\n",
       "    <tr style=\"text-align: right;\">\n",
       "      <th></th>\n",
       "      <th>ship_id</th>\n",
       "      <th>ship_true</th>\n",
       "      <th>ship_type</th>\n",
       "      <th>trajectory</th>\n",
       "      <th>longtitude</th>\n",
       "      <th>latitude</th>\n",
       "      <th>offset_longitude</th>\n",
       "      <th>offset_latitude</th>\n",
       "      <th>formation_type</th>\n",
       "      <th>heading</th>\n",
       "      <th>speed</th>\n",
       "      <th>time</th>\n",
       "      <th>scheme</th>\n",
       "      <th>formation_index</th>\n",
       "      <th>aim</th>\n",
       "      <th>spec_index</th>\n",
       "      <th>近防系统</th>\n",
       "      <th>防空导弹</th>\n",
       "      <th>光电探测系统</th>\n",
       "      <th>火炮</th>\n",
       "      <th>声纳</th>\n",
       "      <th>鱼雷</th>\n",
       "      <th>反舰导弹</th>\n",
       "      <th>电子对抗设备</th>\n",
       "      <th>对地导弹</th>\n",
       "      <th>巡航导弹</th>\n",
       "      <th>雷达</th>\n",
       "      <th>反潜鱼雷</th>\n",
       "      <th>电子干扰系统</th>\n",
       "      <th>reconnaissance_score</th>\n",
       "      <th>precision_score</th>\n",
       "      <th>intercept_score</th>\n",
       "      <th>jamming_score</th>\n",
       "      <th>acceleration</th>\n",
       "      <th>angular_velocity</th>\n",
       "    </tr>\n",
       "  </thead>\n",
       "  <tbody>\n",
       "    <tr>\n",
       "      <th>0</th>\n",
       "      <td>2</td>\n",
       "      <td>2</td>\n",
       "      <td>1</td>\n",
       "      <td>[[70.9805234100415, 39.1336926558038], [70.981...</td>\n",
       "      <td>71.158141</td>\n",
       "      <td>39.148598</td>\n",
       "      <td>0.009668</td>\n",
       "      <td>0.004363</td>\n",
       "      <td>squadron_matrix_3x3</td>\n",
       "      <td>0.135081</td>\n",
       "      <td>0.210062</td>\n",
       "      <td>1673588192000000000</td>\n",
       "      <td>['A', 'B', 'C', 'A', 'B', 'C', 'A', 'B', 'D']</td>\n",
       "      <td>0</td>\n",
       "      <td>A</td>\n",
       "      <td>0</td>\n",
       "      <td>1.0</td>\n",
       "      <td>1.0</td>\n",
       "      <td>0.0</td>\n",
       "      <td>0.0</td>\n",
       "      <td>0.0</td>\n",
       "      <td>0.0</td>\n",
       "      <td>0.0</td>\n",
       "      <td>0.0</td>\n",
       "      <td>0.0</td>\n",
       "      <td>0.0</td>\n",
       "      <td>0.0</td>\n",
       "      <td>0.0</td>\n",
       "      <td>0.0</td>\n",
       "      <td>1.6</td>\n",
       "      <td>1.0</td>\n",
       "      <td>1.4</td>\n",
       "      <td>0.9</td>\n",
       "      <td>2.642813e-07</td>\n",
       "      <td>0.000150</td>\n",
       "    </tr>\n",
       "    <tr>\n",
       "      <th>1</th>\n",
       "      <td>9</td>\n",
       "      <td>9</td>\n",
       "      <td>3</td>\n",
       "      <td>[[70.9735081507016, 39.1363452274606], [70.974...</td>\n",
       "      <td>71.151049</td>\n",
       "      <td>39.151249</td>\n",
       "      <td>0.009668</td>\n",
       "      <td>0.004363</td>\n",
       "      <td>squadron_matrix_3x3</td>\n",
       "      <td>0.135081</td>\n",
       "      <td>0.210965</td>\n",
       "      <td>1673588192000000000</td>\n",
       "      <td>['A', 'B', 'C', 'A', 'B', 'C', 'A', 'B', 'D']</td>\n",
       "      <td>0</td>\n",
       "      <td>B</td>\n",
       "      <td>0</td>\n",
       "      <td>1.0</td>\n",
       "      <td>1.0</td>\n",
       "      <td>1.0</td>\n",
       "      <td>1.0</td>\n",
       "      <td>1.0</td>\n",
       "      <td>1.0</td>\n",
       "      <td>1.0</td>\n",
       "      <td>0.0</td>\n",
       "      <td>0.0</td>\n",
       "      <td>0.0</td>\n",
       "      <td>0.0</td>\n",
       "      <td>0.0</td>\n",
       "      <td>0.0</td>\n",
       "      <td>1.5</td>\n",
       "      <td>0.9</td>\n",
       "      <td>1.0</td>\n",
       "      <td>0.9</td>\n",
       "      <td>3.439292e-07</td>\n",
       "      <td>0.000150</td>\n",
       "    </tr>\n",
       "    <tr>\n",
       "      <th>2</th>\n",
       "      <td>18</td>\n",
       "      <td>18</td>\n",
       "      <td>2</td>\n",
       "      <td>[[70.9875386693814, 39.131040084147], [70.9887...</td>\n",
       "      <td>71.165125</td>\n",
       "      <td>39.145951</td>\n",
       "      <td>0.009668</td>\n",
       "      <td>0.004363</td>\n",
       "      <td>squadron_matrix_3x3</td>\n",
       "      <td>0.135081</td>\n",
       "      <td>0.211038</td>\n",
       "      <td>1673588192000000000</td>\n",
       "      <td>['A', 'B', 'C', 'A', 'B', 'C', 'A', 'B', 'D']</td>\n",
       "      <td>0</td>\n",
       "      <td>C</td>\n",
       "      <td>0</td>\n",
       "      <td>1.0</td>\n",
       "      <td>0.0</td>\n",
       "      <td>1.0</td>\n",
       "      <td>1.0</td>\n",
       "      <td>0.0</td>\n",
       "      <td>0.0</td>\n",
       "      <td>0.0</td>\n",
       "      <td>1.0</td>\n",
       "      <td>0.0</td>\n",
       "      <td>0.0</td>\n",
       "      <td>0.0</td>\n",
       "      <td>0.0</td>\n",
       "      <td>0.0</td>\n",
       "      <td>1.3</td>\n",
       "      <td>0.7</td>\n",
       "      <td>0.9</td>\n",
       "      <td>1.1</td>\n",
       "      <td>3.597090e-07</td>\n",
       "      <td>0.000150</td>\n",
       "    </tr>\n",
       "    <tr>\n",
       "      <th>3</th>\n",
       "      <td>1</td>\n",
       "      <td>1</td>\n",
       "      <td>1</td>\n",
       "      <td>[[70.9778708383847, 39.126677396464], [70.9790...</td>\n",
       "      <td>71.155586</td>\n",
       "      <td>39.141605</td>\n",
       "      <td>0.009668</td>\n",
       "      <td>0.004363</td>\n",
       "      <td>squadron_matrix_3x3</td>\n",
       "      <td>0.135081</td>\n",
       "      <td>0.211312</td>\n",
       "      <td>1673588192000000000</td>\n",
       "      <td>['A', 'B', 'C', 'A', 'B', 'C', 'A', 'B', 'D']</td>\n",
       "      <td>0</td>\n",
       "      <td>A</td>\n",
       "      <td>0</td>\n",
       "      <td>1.0</td>\n",
       "      <td>0.0</td>\n",
       "      <td>0.0</td>\n",
       "      <td>0.0</td>\n",
       "      <td>0.0</td>\n",
       "      <td>0.0</td>\n",
       "      <td>0.0</td>\n",
       "      <td>1.0</td>\n",
       "      <td>0.0</td>\n",
       "      <td>0.0</td>\n",
       "      <td>0.0</td>\n",
       "      <td>0.0</td>\n",
       "      <td>0.0</td>\n",
       "      <td>1.9</td>\n",
       "      <td>0.9</td>\n",
       "      <td>1.7</td>\n",
       "      <td>1.1</td>\n",
       "      <td>3.833587e-07</td>\n",
       "      <td>0.000150</td>\n",
       "    </tr>\n",
       "    <tr>\n",
       "      <th>4</th>\n",
       "      <td>17</td>\n",
       "      <td>17</td>\n",
       "      <td>2</td>\n",
       "      <td>[[70.9831759816983, 39.1407079151437], [70.984...</td>\n",
       "      <td>71.161315</td>\n",
       "      <td>39.155657</td>\n",
       "      <td>0.009668</td>\n",
       "      <td>0.004363</td>\n",
       "      <td>squadron_matrix_3x3</td>\n",
       "      <td>0.135081</td>\n",
       "      <td>0.213439</td>\n",
       "      <td>1673588192000000000</td>\n",
       "      <td>['A', 'B', 'C', 'A', 'B', 'C', 'A', 'B', 'D']</td>\n",
       "      <td>0</td>\n",
       "      <td>B</td>\n",
       "      <td>0</td>\n",
       "      <td>1.0</td>\n",
       "      <td>1.0</td>\n",
       "      <td>0.0</td>\n",
       "      <td>1.0</td>\n",
       "      <td>0.0</td>\n",
       "      <td>1.0</td>\n",
       "      <td>0.0</td>\n",
       "      <td>1.0</td>\n",
       "      <td>1.0</td>\n",
       "      <td>0.0</td>\n",
       "      <td>0.0</td>\n",
       "      <td>0.0</td>\n",
       "      <td>0.0</td>\n",
       "      <td>1.3</td>\n",
       "      <td>0.7</td>\n",
       "      <td>0.9</td>\n",
       "      <td>1.0</td>\n",
       "      <td>5.336827e-07</td>\n",
       "      <td>0.000150</td>\n",
       "    </tr>\n",
       "    <tr>\n",
       "      <th>...</th>\n",
       "      <td>...</td>\n",
       "      <td>...</td>\n",
       "      <td>...</td>\n",
       "      <td>...</td>\n",
       "      <td>...</td>\n",
       "      <td>...</td>\n",
       "      <td>...</td>\n",
       "      <td>...</td>\n",
       "      <td>...</td>\n",
       "      <td>...</td>\n",
       "      <td>...</td>\n",
       "      <td>...</td>\n",
       "      <td>...</td>\n",
       "      <td>...</td>\n",
       "      <td>...</td>\n",
       "      <td>...</td>\n",
       "      <td>...</td>\n",
       "      <td>...</td>\n",
       "      <td>...</td>\n",
       "      <td>...</td>\n",
       "      <td>...</td>\n",
       "      <td>...</td>\n",
       "      <td>...</td>\n",
       "      <td>...</td>\n",
       "      <td>...</td>\n",
       "      <td>...</td>\n",
       "      <td>...</td>\n",
       "      <td>...</td>\n",
       "      <td>...</td>\n",
       "      <td>...</td>\n",
       "      <td>...</td>\n",
       "      <td>...</td>\n",
       "      <td>...</td>\n",
       "      <td>...</td>\n",
       "      <td>...</td>\n",
       "    </tr>\n",
       "    <tr>\n",
       "      <th>77522</th>\n",
       "      <td>13</td>\n",
       "      <td>12</td>\n",
       "      <td>0</td>\n",
       "      <td>[[121.5275118796345, 36.4829966982461], [121.5...</td>\n",
       "      <td>121.544879</td>\n",
       "      <td>36.364691</td>\n",
       "      <td>-0.016000</td>\n",
       "      <td>-0.024000</td>\n",
       "      <td>squadron_matrix_3x4</td>\n",
       "      <td>-0.845276</td>\n",
       "      <td>0.147439</td>\n",
       "      <td>1697486332000000000</td>\n",
       "      <td>['A', 'B', 'C', 'A', 'B', 'C', 'A', 'B', 'C', ...</td>\n",
       "      <td>17</td>\n",
       "      <td>C</td>\n",
       "      <td>899</td>\n",
       "      <td>1.0</td>\n",
       "      <td>0.0</td>\n",
       "      <td>0.0</td>\n",
       "      <td>0.0</td>\n",
       "      <td>0.0</td>\n",
       "      <td>1.0</td>\n",
       "      <td>0.0</td>\n",
       "      <td>0.0</td>\n",
       "      <td>0.0</td>\n",
       "      <td>0.0</td>\n",
       "      <td>0.0</td>\n",
       "      <td>0.0</td>\n",
       "      <td>0.0</td>\n",
       "      <td>0.8</td>\n",
       "      <td>1.1</td>\n",
       "      <td>0.7</td>\n",
       "      <td>1.6</td>\n",
       "      <td>2.299102e-07</td>\n",
       "      <td>0.001679</td>\n",
       "    </tr>\n",
       "    <tr>\n",
       "      <th>77523</th>\n",
       "      <td>5</td>\n",
       "      <td>1</td>\n",
       "      <td>3</td>\n",
       "      <td>[[121.5195118796345, 36.4909966982461], [121.5...</td>\n",
       "      <td>121.537007</td>\n",
       "      <td>36.372307</td>\n",
       "      <td>-0.016000</td>\n",
       "      <td>-0.024000</td>\n",
       "      <td>squadron_matrix_3x4</td>\n",
       "      <td>-0.845276</td>\n",
       "      <td>0.147949</td>\n",
       "      <td>1697486332000000000</td>\n",
       "      <td>['A', 'B', 'C', 'A', 'B', 'C', 'A', 'B', 'C', ...</td>\n",
       "      <td>17</td>\n",
       "      <td>A</td>\n",
       "      <td>899</td>\n",
       "      <td>1.0</td>\n",
       "      <td>1.0</td>\n",
       "      <td>0.0</td>\n",
       "      <td>1.0</td>\n",
       "      <td>1.0</td>\n",
       "      <td>1.0</td>\n",
       "      <td>0.0</td>\n",
       "      <td>0.0</td>\n",
       "      <td>1.0</td>\n",
       "      <td>0.0</td>\n",
       "      <td>1.0</td>\n",
       "      <td>0.0</td>\n",
       "      <td>0.0</td>\n",
       "      <td>0.6</td>\n",
       "      <td>0.7</td>\n",
       "      <td>1.0</td>\n",
       "      <td>1.3</td>\n",
       "      <td>1.828511e-07</td>\n",
       "      <td>0.001679</td>\n",
       "    </tr>\n",
       "    <tr>\n",
       "      <th>77524</th>\n",
       "      <td>11</td>\n",
       "      <td>8</td>\n",
       "      <td>4</td>\n",
       "      <td>[[121.5195118796345, 36.4749966982461], [121.5...</td>\n",
       "      <td>121.536908</td>\n",
       "      <td>36.356518</td>\n",
       "      <td>-0.016000</td>\n",
       "      <td>-0.024000</td>\n",
       "      <td>squadron_matrix_3x4</td>\n",
       "      <td>-0.845276</td>\n",
       "      <td>0.147813</td>\n",
       "      <td>1697486332000000000</td>\n",
       "      <td>['A', 'B', 'C', 'A', 'B', 'C', 'A', 'B', 'C', ...</td>\n",
       "      <td>17</td>\n",
       "      <td>B</td>\n",
       "      <td>899</td>\n",
       "      <td>1.0</td>\n",
       "      <td>1.0</td>\n",
       "      <td>0.0</td>\n",
       "      <td>0.0</td>\n",
       "      <td>0.0</td>\n",
       "      <td>0.0</td>\n",
       "      <td>1.0</td>\n",
       "      <td>1.0</td>\n",
       "      <td>1.0</td>\n",
       "      <td>1.0</td>\n",
       "      <td>0.0</td>\n",
       "      <td>0.0</td>\n",
       "      <td>0.0</td>\n",
       "      <td>0.7</td>\n",
       "      <td>0.9</td>\n",
       "      <td>0.7</td>\n",
       "      <td>1.2</td>\n",
       "      <td>2.990676e-07</td>\n",
       "      <td>0.001679</td>\n",
       "    </tr>\n",
       "    <tr>\n",
       "      <th>77525</th>\n",
       "      <td>4</td>\n",
       "      <td>17</td>\n",
       "      <td>3</td>\n",
       "      <td>[[121.5355118796345, 36.5069966982461], [121.5...</td>\n",
       "      <td>121.552911</td>\n",
       "      <td>36.388864</td>\n",
       "      <td>-0.016000</td>\n",
       "      <td>-0.024000</td>\n",
       "      <td>squadron_matrix_3x4</td>\n",
       "      <td>-0.845276</td>\n",
       "      <td>0.148420</td>\n",
       "      <td>1697486332000000000</td>\n",
       "      <td>['A', 'B', 'C', 'A', 'B', 'C', 'A', 'B', 'C', ...</td>\n",
       "      <td>17</td>\n",
       "      <td>C</td>\n",
       "      <td>899</td>\n",
       "      <td>1.0</td>\n",
       "      <td>1.0</td>\n",
       "      <td>0.0</td>\n",
       "      <td>1.0</td>\n",
       "      <td>0.0</td>\n",
       "      <td>0.0</td>\n",
       "      <td>0.0</td>\n",
       "      <td>1.0</td>\n",
       "      <td>0.0</td>\n",
       "      <td>0.0</td>\n",
       "      <td>0.0</td>\n",
       "      <td>0.0</td>\n",
       "      <td>0.0</td>\n",
       "      <td>0.6</td>\n",
       "      <td>0.7</td>\n",
       "      <td>1.1</td>\n",
       "      <td>1.3</td>\n",
       "      <td>3.085184e-07</td>\n",
       "      <td>0.001679</td>\n",
       "    </tr>\n",
       "    <tr>\n",
       "      <th>77526</th>\n",
       "      <td>2</td>\n",
       "      <td>14</td>\n",
       "      <td>1</td>\n",
       "      <td>[[121.5355118796345, 36.4909966982461], [121.5...</td>\n",
       "      <td>121.552862</td>\n",
       "      <td>36.372567</td>\n",
       "      <td>-0.016000</td>\n",
       "      <td>-0.024000</td>\n",
       "      <td>squadron_matrix_3x4</td>\n",
       "      <td>-0.845276</td>\n",
       "      <td>0.149098</td>\n",
       "      <td>1697486332000000000</td>\n",
       "      <td>['A', 'B', 'C', 'A', 'B', 'C', 'A', 'B', 'C', ...</td>\n",
       "      <td>17</td>\n",
       "      <td>A</td>\n",
       "      <td>899</td>\n",
       "      <td>0.0</td>\n",
       "      <td>1.0</td>\n",
       "      <td>0.0</td>\n",
       "      <td>1.0</td>\n",
       "      <td>0.0</td>\n",
       "      <td>0.0</td>\n",
       "      <td>0.0</td>\n",
       "      <td>0.0</td>\n",
       "      <td>1.0</td>\n",
       "      <td>0.0</td>\n",
       "      <td>0.0</td>\n",
       "      <td>0.0</td>\n",
       "      <td>0.0</td>\n",
       "      <td>0.8</td>\n",
       "      <td>0.7</td>\n",
       "      <td>1.6</td>\n",
       "      <td>1.4</td>\n",
       "      <td>2.940008e-07</td>\n",
       "      <td>0.001679</td>\n",
       "    </tr>\n",
       "  </tbody>\n",
       "</table>\n",
       "<p>77527 rows × 35 columns</p>\n",
       "</div>"
      ],
      "text/plain": [
       "       ship_id  ship_true  ship_type  \\\n",
       "0            2          2          1   \n",
       "1            9          9          3   \n",
       "2           18         18          2   \n",
       "3            1          1          1   \n",
       "4           17         17          2   \n",
       "...        ...        ...        ...   \n",
       "77522       13         12          0   \n",
       "77523        5          1          3   \n",
       "77524       11          8          4   \n",
       "77525        4         17          3   \n",
       "77526        2         14          1   \n",
       "\n",
       "                                              trajectory  longtitude  \\\n",
       "0      [[70.9805234100415, 39.1336926558038], [70.981...   71.158141   \n",
       "1      [[70.9735081507016, 39.1363452274606], [70.974...   71.151049   \n",
       "2      [[70.9875386693814, 39.131040084147], [70.9887...   71.165125   \n",
       "3      [[70.9778708383847, 39.126677396464], [70.9790...   71.155586   \n",
       "4      [[70.9831759816983, 39.1407079151437], [70.984...   71.161315   \n",
       "...                                                  ...         ...   \n",
       "77522  [[121.5275118796345, 36.4829966982461], [121.5...  121.544879   \n",
       "77523  [[121.5195118796345, 36.4909966982461], [121.5...  121.537007   \n",
       "77524  [[121.5195118796345, 36.4749966982461], [121.5...  121.536908   \n",
       "77525  [[121.5355118796345, 36.5069966982461], [121.5...  121.552911   \n",
       "77526  [[121.5355118796345, 36.4909966982461], [121.5...  121.552862   \n",
       "\n",
       "        latitude  offset_longitude  offset_latitude       formation_type  \\\n",
       "0      39.148598          0.009668         0.004363  squadron_matrix_3x3   \n",
       "1      39.151249          0.009668         0.004363  squadron_matrix_3x3   \n",
       "2      39.145951          0.009668         0.004363  squadron_matrix_3x3   \n",
       "3      39.141605          0.009668         0.004363  squadron_matrix_3x3   \n",
       "4      39.155657          0.009668         0.004363  squadron_matrix_3x3   \n",
       "...          ...               ...              ...                  ...   \n",
       "77522  36.364691         -0.016000        -0.024000  squadron_matrix_3x4   \n",
       "77523  36.372307         -0.016000        -0.024000  squadron_matrix_3x4   \n",
       "77524  36.356518         -0.016000        -0.024000  squadron_matrix_3x4   \n",
       "77525  36.388864         -0.016000        -0.024000  squadron_matrix_3x4   \n",
       "77526  36.372567         -0.016000        -0.024000  squadron_matrix_3x4   \n",
       "\n",
       "        heading     speed                 time  \\\n",
       "0      0.135081  0.210062  1673588192000000000   \n",
       "1      0.135081  0.210965  1673588192000000000   \n",
       "2      0.135081  0.211038  1673588192000000000   \n",
       "3      0.135081  0.211312  1673588192000000000   \n",
       "4      0.135081  0.213439  1673588192000000000   \n",
       "...         ...       ...                  ...   \n",
       "77522 -0.845276  0.147439  1697486332000000000   \n",
       "77523 -0.845276  0.147949  1697486332000000000   \n",
       "77524 -0.845276  0.147813  1697486332000000000   \n",
       "77525 -0.845276  0.148420  1697486332000000000   \n",
       "77526 -0.845276  0.149098  1697486332000000000   \n",
       "\n",
       "                                                  scheme  formation_index aim  \\\n",
       "0          ['A', 'B', 'C', 'A', 'B', 'C', 'A', 'B', 'D']                0   A   \n",
       "1          ['A', 'B', 'C', 'A', 'B', 'C', 'A', 'B', 'D']                0   B   \n",
       "2          ['A', 'B', 'C', 'A', 'B', 'C', 'A', 'B', 'D']                0   C   \n",
       "3          ['A', 'B', 'C', 'A', 'B', 'C', 'A', 'B', 'D']                0   A   \n",
       "4          ['A', 'B', 'C', 'A', 'B', 'C', 'A', 'B', 'D']                0   B   \n",
       "...                                                  ...              ...  ..   \n",
       "77522  ['A', 'B', 'C', 'A', 'B', 'C', 'A', 'B', 'C', ...               17   C   \n",
       "77523  ['A', 'B', 'C', 'A', 'B', 'C', 'A', 'B', 'C', ...               17   A   \n",
       "77524  ['A', 'B', 'C', 'A', 'B', 'C', 'A', 'B', 'C', ...               17   B   \n",
       "77525  ['A', 'B', 'C', 'A', 'B', 'C', 'A', 'B', 'C', ...               17   C   \n",
       "77526  ['A', 'B', 'C', 'A', 'B', 'C', 'A', 'B', 'C', ...               17   A   \n",
       "\n",
       "       spec_index  近防系统  防空导弹  光电探测系统   火炮   声纳   鱼雷  反舰导弹  电子对抗设备  对地导弹  \\\n",
       "0               0   1.0   1.0     0.0  0.0  0.0  0.0   0.0     0.0   0.0   \n",
       "1               0   1.0   1.0     1.0  1.0  1.0  1.0   1.0     0.0   0.0   \n",
       "2               0   1.0   0.0     1.0  1.0  0.0  0.0   0.0     1.0   0.0   \n",
       "3               0   1.0   0.0     0.0  0.0  0.0  0.0   0.0     1.0   0.0   \n",
       "4               0   1.0   1.0     0.0  1.0  0.0  1.0   0.0     1.0   1.0   \n",
       "...           ...   ...   ...     ...  ...  ...  ...   ...     ...   ...   \n",
       "77522         899   1.0   0.0     0.0  0.0  0.0  1.0   0.0     0.0   0.0   \n",
       "77523         899   1.0   1.0     0.0  1.0  1.0  1.0   0.0     0.0   1.0   \n",
       "77524         899   1.0   1.0     0.0  0.0  0.0  0.0   1.0     1.0   1.0   \n",
       "77525         899   1.0   1.0     0.0  1.0  0.0  0.0   0.0     1.0   0.0   \n",
       "77526         899   0.0   1.0     0.0  1.0  0.0  0.0   0.0     0.0   1.0   \n",
       "\n",
       "       巡航导弹   雷达  反潜鱼雷  电子干扰系统  reconnaissance_score  precision_score  \\\n",
       "0       0.0  0.0   0.0     0.0                   1.6              1.0   \n",
       "1       0.0  0.0   0.0     0.0                   1.5              0.9   \n",
       "2       0.0  0.0   0.0     0.0                   1.3              0.7   \n",
       "3       0.0  0.0   0.0     0.0                   1.9              0.9   \n",
       "4       0.0  0.0   0.0     0.0                   1.3              0.7   \n",
       "...     ...  ...   ...     ...                   ...              ...   \n",
       "77522   0.0  0.0   0.0     0.0                   0.8              1.1   \n",
       "77523   0.0  1.0   0.0     0.0                   0.6              0.7   \n",
       "77524   1.0  0.0   0.0     0.0                   0.7              0.9   \n",
       "77525   0.0  0.0   0.0     0.0                   0.6              0.7   \n",
       "77526   0.0  0.0   0.0     0.0                   0.8              0.7   \n",
       "\n",
       "       intercept_score  jamming_score  acceleration  angular_velocity  \n",
       "0                  1.4            0.9  2.642813e-07          0.000150  \n",
       "1                  1.0            0.9  3.439292e-07          0.000150  \n",
       "2                  0.9            1.1  3.597090e-07          0.000150  \n",
       "3                  1.7            1.1  3.833587e-07          0.000150  \n",
       "4                  0.9            1.0  5.336827e-07          0.000150  \n",
       "...                ...            ...           ...               ...  \n",
       "77522              0.7            1.6  2.299102e-07          0.001679  \n",
       "77523              1.0            1.3  1.828511e-07          0.001679  \n",
       "77524              0.7            1.2  2.990676e-07          0.001679  \n",
       "77525              1.1            1.3  3.085184e-07          0.001679  \n",
       "77526              1.6            1.4  2.940008e-07          0.001679  \n",
       "\n",
       "[77527 rows x 35 columns]"
      ]
     },
     "execution_count": 5,
     "metadata": {},
     "output_type": "execute_result"
    },
    {
     "data": {
      "text/plain": [
       "Index(['ship_id', 'ship_true', 'ship_type', 'trajectory', 'longtitude',\n",
       "       'latitude', 'offset_longitude', 'offset_latitude', 'formation_type',\n",
       "       'heading', 'speed', 'time', 'scheme', 'formation_index', 'aim',\n",
       "       'spec_index', '近防系统', '防空导弹', '光电探测系统', '火炮', '声纳', '鱼雷', '反舰导弹',\n",
       "       '电子对抗设备', '对地导弹', '巡航导弹', '雷达', '反潜鱼雷', '电子干扰系统',\n",
       "       'reconnaissance_score', 'precision_score', 'intercept_score',\n",
       "       'jamming_score', 'acceleration', 'angular_velocity'],\n",
       "      dtype='object')"
      ]
     },
     "execution_count": 5,
     "metadata": {},
     "output_type": "execute_result"
    },
    {
     "data": {
      "text/plain": [
       "(77529, 35)"
      ]
     },
     "execution_count": 5,
     "metadata": {},
     "output_type": "execute_result"
    },
    {
     "data": {
      "text/plain": [
       "10    4746\n",
       "11    4672\n",
       "18    4609\n",
       "16    4430\n",
       "12    4427\n",
       "19    4307\n",
       "17    4288\n",
       "2     3683\n",
       "4     3665\n",
       "6     3662\n",
       "13    3658\n",
       "8     3532\n",
       "1     3528\n",
       "5     3512\n",
       "15    3506\n",
       "0     3505\n",
       "14    3478\n",
       "3     3478\n",
       "7     3445\n",
       "9     3398\n",
       "Name: ship_true, dtype: int64"
      ]
     },
     "execution_count": 5,
     "metadata": {},
     "output_type": "execute_result"
    },
    {
     "data": {
      "text/plain": [
       "827    137\n",
       "803    135\n",
       "816    134\n",
       "830    134\n",
       "810    134\n",
       "      ... \n",
       "264     43\n",
       "252     41\n",
       "258     41\n",
       "251     41\n",
       "293     41\n",
       "Name: spec_index, Length: 900, dtype: int64"
      ]
     },
     "execution_count": 5,
     "metadata": {},
     "output_type": "execute_result"
    }
   ],
   "source": [
    "#adult_data.head(5)\n",
    "pd.set_option('display.max_columns', None)\n",
    "data.head(-2)\n",
    "data.columns\n",
    "data.shape\n",
    "data[\"ship_true\"].value_counts()\n",
    "data[\"spec_index\"].value_counts()\n"
   ]
  },
  {
   "cell_type": "markdown",
   "metadata": {},
   "source": [
    "#### 区分一下特征(属性)和目标"
   ]
  },
  {
   "cell_type": "code",
   "execution_count": 6,
   "metadata": {
    "collapsed": true
   },
   "outputs": [
    {
     "data": {
      "text/plain": [
       "'\\nfeature_columns = [\\n    \"workclass\",\\n    \"education\",\\n    \"marital-status\",\\n    \"occupation\",\\n    \"relationship\",\\n    \"race\",\\n    \"gender\",\\n    \"native-country\",\\n]\\n\\nlabel_column = [\"income\"]\\n'"
      ]
     },
     "execution_count": 6,
     "metadata": {},
     "output_type": "execute_result"
    },
    {
     "data": {
      "text/plain": [
       "['ship_id',\n",
       " 'ship_type',\n",
       " 'heading',\n",
       " 'speed',\n",
       " 'time',\n",
       " 'longtitude',\n",
       " 'latitude',\n",
       " 'offset_longitude',\n",
       " 'offset_latitude',\n",
       " '火炮',\n",
       " '鱼雷',\n",
       " '防空导弹',\n",
       " '近防系统',\n",
       " '反舰导弹',\n",
       " '电子干扰系统',\n",
       " '巡航导弹',\n",
       " '对地导弹',\n",
       " '雷达',\n",
       " '反潜鱼雷',\n",
       " '电子对抗设备',\n",
       " '声纳',\n",
       " '光电探测系统',\n",
       " 'reconnaissance_score',\n",
       " 'precision_score',\n",
       " 'intercept_score',\n",
       " 'jamming_score',\n",
       " 'acceleration',\n",
       " 'angular_velocity']"
      ]
     },
     "execution_count": 6,
     "metadata": {},
     "output_type": "execute_result"
    },
    {
     "data": {
      "text/plain": [
       "['ship_true']"
      ]
     },
     "execution_count": 6,
     "metadata": {},
     "output_type": "execute_result"
    }
   ],
   "source": [
    "\"\"\"\n",
    "feature_columns = [\n",
    "    \"workclass\",\n",
    "    \"education\",\n",
    "    \"marital-status\",\n",
    "    \"occupation\",\n",
    "    \"relationship\",\n",
    "    \"race\",\n",
    "    \"gender\",\n",
    "    \"native-country\",\n",
    "]\n",
    "\n",
    "label_column = [\"income\"]\n",
    "\"\"\"\n",
    "feature_columns = [\n",
    "    \"ship_id\",\n",
    "    \"ship_type\",\n",
    "    \"heading\",\n",
    "    \"speed\",\n",
    "    \"time\",\n",
    "    \"longtitude\",\n",
    "    \"latitude\",\n",
    "    \"offset_longitude\",\n",
    "    \"offset_latitude\",\n",
    "    \"火炮\",\n",
    "    \"鱼雷\",\n",
    "    \"防空导弹\",\n",
    "    \"近防系统\",\n",
    "    \"反舰导弹\",\n",
    "    \"电子干扰系统\",\n",
    "    \"巡航导弹\",\n",
    "    \"对地导弹\",\n",
    "    \"雷达\",\n",
    "    \"反潜鱼雷\",\n",
    "    \"电子对抗设备\",\n",
    "    \"声纳\",\n",
    "    \"光电探测系统\",\n",
    "    \"reconnaissance_score\",\n",
    "    \"precision_score\",\n",
    "    \"intercept_score\",\n",
    "    \"jamming_score\",\n",
    "    \"acceleration\",\n",
    "    \"angular_velocity\",\n",
    "]\n",
    "label_column = [\"ship_true\"]\n",
    "feature_columns\n",
    "label_column"
   ]
  },
  {
   "cell_type": "code",
   "execution_count": 26,
   "metadata": {},
   "outputs": [
    {
     "data": {
      "text/plain": [
       "((62023, 28), (15506, 28), (62023,), (15506,))"
      ]
     },
     "execution_count": 26,
     "metadata": {},
     "output_type": "execute_result"
    },
    {
     "data": {
      "text/html": [
       "<div>\n",
       "<style scoped>\n",
       "    .dataframe tbody tr th:only-of-type {\n",
       "        vertical-align: middle;\n",
       "    }\n",
       "\n",
       "    .dataframe tbody tr th {\n",
       "        vertical-align: top;\n",
       "    }\n",
       "\n",
       "    .dataframe thead th {\n",
       "        text-align: right;\n",
       "    }\n",
       "</style>\n",
       "<table border=\"1\" class=\"dataframe\">\n",
       "  <thead>\n",
       "    <tr style=\"text-align: right;\">\n",
       "      <th></th>\n",
       "      <th>ship_id</th>\n",
       "      <th>ship_type</th>\n",
       "      <th>heading</th>\n",
       "      <th>speed</th>\n",
       "      <th>time</th>\n",
       "      <th>longtitude</th>\n",
       "      <th>latitude</th>\n",
       "      <th>offset_longitude</th>\n",
       "      <th>offset_latitude</th>\n",
       "      <th>火炮</th>\n",
       "      <th>鱼雷</th>\n",
       "      <th>防空导弹</th>\n",
       "      <th>近防系统</th>\n",
       "      <th>反舰导弹</th>\n",
       "      <th>电子干扰系统</th>\n",
       "      <th>巡航导弹</th>\n",
       "      <th>对地导弹</th>\n",
       "      <th>雷达</th>\n",
       "      <th>反潜鱼雷</th>\n",
       "      <th>电子对抗设备</th>\n",
       "      <th>声纳</th>\n",
       "      <th>光电探测系统</th>\n",
       "      <th>reconnaissance_score</th>\n",
       "      <th>precision_score</th>\n",
       "      <th>intercept_score</th>\n",
       "      <th>jamming_score</th>\n",
       "      <th>acceleration</th>\n",
       "      <th>angular_velocity</th>\n",
       "    </tr>\n",
       "  </thead>\n",
       "  <tbody>\n",
       "    <tr>\n",
       "      <th>26869</th>\n",
       "      <td>3</td>\n",
       "      <td>3</td>\n",
       "      <td>4.192918</td>\n",
       "      <td>0.018935</td>\n",
       "      <td>1700581710000000000</td>\n",
       "      <td>39.965226</td>\n",
       "      <td>47.495027</td>\n",
       "      <td>-0.077559</td>\n",
       "      <td>0.009115</td>\n",
       "      <td>1.0</td>\n",
       "      <td>1.0</td>\n",
       "      <td>0.0</td>\n",
       "      <td>0.0</td>\n",
       "      <td>0.0</td>\n",
       "      <td>0.0</td>\n",
       "      <td>0.0</td>\n",
       "      <td>0.0</td>\n",
       "      <td>1.0</td>\n",
       "      <td>0.0</td>\n",
       "      <td>0.0</td>\n",
       "      <td>0.0</td>\n",
       "      <td>0.0</td>\n",
       "      <td>0.5</td>\n",
       "      <td>0.6</td>\n",
       "      <td>1.4</td>\n",
       "      <td>0.7</td>\n",
       "      <td>-4.363183e-07</td>\n",
       "      <td>0.001298</td>\n",
       "    </tr>\n",
       "    <tr>\n",
       "      <th>37702</th>\n",
       "      <td>10</td>\n",
       "      <td>4</td>\n",
       "      <td>-0.363104</td>\n",
       "      <td>0.136535</td>\n",
       "      <td>1695692929000000000</td>\n",
       "      <td>89.470052</td>\n",
       "      <td>-10.847295</td>\n",
       "      <td>0.002968</td>\n",
       "      <td>-0.030155</td>\n",
       "      <td>0.0</td>\n",
       "      <td>0.0</td>\n",
       "      <td>0.0</td>\n",
       "      <td>0.0</td>\n",
       "      <td>0.0</td>\n",
       "      <td>0.0</td>\n",
       "      <td>0.0</td>\n",
       "      <td>1.0</td>\n",
       "      <td>0.0</td>\n",
       "      <td>0.0</td>\n",
       "      <td>0.0</td>\n",
       "      <td>0.0</td>\n",
       "      <td>1.0</td>\n",
       "      <td>0.3</td>\n",
       "      <td>0.8</td>\n",
       "      <td>1.0</td>\n",
       "      <td>0.4</td>\n",
       "      <td>2.467163e-07</td>\n",
       "      <td>0.001233</td>\n",
       "    </tr>\n",
       "  </tbody>\n",
       "</table>\n",
       "</div>"
      ],
      "text/plain": [
       "       ship_id  ship_type   heading     speed                 time  \\\n",
       "26869        3          3  4.192918  0.018935  1700581710000000000   \n",
       "37702       10          4 -0.363104  0.136535  1695692929000000000   \n",
       "\n",
       "       longtitude   latitude  offset_longitude  offset_latitude   火炮   鱼雷  \\\n",
       "26869   39.965226  47.495027         -0.077559         0.009115  1.0  1.0   \n",
       "37702   89.470052 -10.847295          0.002968        -0.030155  0.0  0.0   \n",
       "\n",
       "       防空导弹  近防系统  反舰导弹  电子干扰系统  巡航导弹  对地导弹   雷达  反潜鱼雷  电子对抗设备   声纳  光电探测系统  \\\n",
       "26869   0.0   0.0   0.0     0.0   0.0   0.0  1.0   0.0     0.0  0.0     0.0   \n",
       "37702   0.0   0.0   0.0     0.0   0.0   1.0  0.0   0.0     0.0  0.0     1.0   \n",
       "\n",
       "       reconnaissance_score  precision_score  intercept_score  jamming_score  \\\n",
       "26869                   0.5              0.6              1.4            0.7   \n",
       "37702                   0.3              0.8              1.0            0.4   \n",
       "\n",
       "       acceleration  angular_velocity  \n",
       "26869 -4.363183e-07          0.001298  \n",
       "37702  2.467163e-07          0.001233  "
      ]
     },
     "execution_count": 26,
     "metadata": {},
     "output_type": "execute_result"
    },
    {
     "name": "stdout",
     "output_type": "stream",
     "text": [
      "<class 'pandas.core.frame.DataFrame'>\n",
      "Int64Index: 62023 entries, 26869 to 8823\n",
      "Data columns (total 28 columns):\n",
      " #   Column                Non-Null Count  Dtype  \n",
      "---  ------                --------------  -----  \n",
      " 0   ship_id               62023 non-null  int32  \n",
      " 1   ship_type             62023 non-null  int64  \n",
      " 2   heading               62023 non-null  float64\n",
      " 3   speed                 62023 non-null  float64\n",
      " 4   time                  62023 non-null  int64  \n",
      " 5   longtitude            62023 non-null  float64\n",
      " 6   latitude              62023 non-null  float64\n",
      " 7   offset_longitude      62023 non-null  float64\n",
      " 8   offset_latitude       62023 non-null  float64\n",
      " 9   火炮                    62023 non-null  float64\n",
      " 10  鱼雷                    62023 non-null  float64\n",
      " 11  防空导弹                  62023 non-null  float64\n",
      " 12  近防系统                  62023 non-null  float64\n",
      " 13  反舰导弹                  62023 non-null  float64\n",
      " 14  电子干扰系统                62023 non-null  float64\n",
      " 15  巡航导弹                  62023 non-null  float64\n",
      " 16  对地导弹                  62023 non-null  float64\n",
      " 17  雷达                    62023 non-null  float64\n",
      " 18  反潜鱼雷                  62023 non-null  float64\n",
      " 19  电子对抗设备                62023 non-null  float64\n",
      " 20  声纳                    62023 non-null  float64\n",
      " 21  光电探测系统                62023 non-null  float64\n",
      " 22  reconnaissance_score  62023 non-null  float64\n",
      " 23  precision_score       62023 non-null  float64\n",
      " 24  intercept_score       62023 non-null  float64\n",
      " 25  jamming_score         62023 non-null  float64\n",
      " 26  acceleration          62023 non-null  float64\n",
      " 27  angular_velocity      62023 non-null  float64\n",
      "dtypes: float64(25), int32(1), int64(2)\n",
      "memory usage: 13.5 MB\n"
     ]
    }
   ],
   "source": [
    "from sklearn.model_selection import train_test_split\n",
    "X = data.drop(columns=['ship_true'])[feature_columns]\n",
    "y = data['ship_true']\n",
    "\n",
    "X_train, X_test, y_train, y_test = train_test_split(X, y, test_size=0.2, random_state=66, shuffle=True)\n",
    "X_train.shape, X_test.shape, y_train.shape, y_test.shape\n",
    "X_train.head(2)\n",
    "X_train.info()"
   ]
  },
  {
   "cell_type": "markdown",
   "metadata": {},
   "source": [
    "### 构建模型"
   ]
  },
  {
   "cell_type": "code",
   "execution_count": null,
   "metadata": {
    "collapsed": true
   },
   "outputs": [],
   "source": [
    "clf = tree.DecisionTreeClassifier(criterion='entropy', max_depth=4)\n",
    "#用决策树分类器拟合数据\n",
    "clf = clf.fit(X_train,y_train)\n",
    "\n",
    "\n",
    "\n",
    "y_pred = clf.predict(X_test)\n",
    "accuracy = accuracy_score(y_test, y_pred)\n",
    "accuracy"
   ]
  },
  {
   "cell_type": "code",
   "execution_count": 8,
   "metadata": {},
   "outputs": [
    {
     "name": "stdout",
     "output_type": "stream",
     "text": [
      "4.5.0\n"
     ]
    }
   ],
   "source": [
    "import lightgbm as lgb\n",
    "print(lgb.__version__)\n"
   ]
  },
  {
   "cell_type": "code",
   "execution_count": 27,
   "metadata": {},
   "outputs": [],
   "source": [
    "import numpy as np\n",
    "import lightgbm as lgb\n",
    "from sklearn.metrics import accuracy_score\n",
    "from matplotlib import pyplot as plt\n",
    "\n",
    "train_data = lgb.Dataset(X_train, y_train)\n",
    "test_data = lgb.Dataset(X_test, y_test)\n",
    "\n",
    "params = {\n",
    "    \"objective\": \"multiclass\",\n",
    "    \"metric\": \"multi_logloss\",\n",
    "    \"num_class\": 20,\n",
    "    \"device\": [\"gpu\"],\n",
    "    \"learning_rate\": 0.1,\n",
    "    \"lambda_l2\": 0.8,\n",
    "}\n",
    "\n",
    "evals_result = {}\n",
    "callbacks = [lgb.callback.record_evaluation(evals_result)]\n",
    "clf_gbm = lgb.train(\n",
    "    params,\n",
    "    train_data,\n",
    "    valid_sets=[train_data, test_data],\n",
    "    callbacks=callbacks,\n",
    "    num_boost_round=800,\n",
    ")\n",
    "\n",
    "# 计算训练集和验证集的准确率\n",
    "train_preds = clf_gbm.predict(X_train)\n",
    "train_preds_max = np.argmax(train_preds, axis=1)  # 获取每个样本的类标签\n",
    "train_accuracy = accuracy_score(y_train, train_preds_max)\n",
    "\n",
    "valid_preds = clf_gbm.predict(X_test)\n",
    "valid_preds_max = np.argmax(valid_preds, axis=1)\n",
    "valid_accuracy = accuracy_score(y_test, valid_preds_max)\n",
    "\n",
    "# 可视化\n",
    "num_boost_round = len(evals_result[\"training\"][\"multi_logloss\"])"
   ]
  },
  {
   "cell_type": "code",
   "execution_count": 28,
   "metadata": {},
   "outputs": [
    {
     "data": {
      "text/plain": [
       "<Figure size 1600x500 with 0 Axes>"
      ]
     },
     "execution_count": 28,
     "metadata": {},
     "output_type": "execute_result"
    },
    {
     "data": {
      "text/plain": [
       "<AxesSubplot:>"
      ]
     },
     "execution_count": 28,
     "metadata": {},
     "output_type": "execute_result"
    },
    {
     "data": {
      "text/plain": [
       "[<matplotlib.lines.Line2D at 0x25df4e71780>]"
      ]
     },
     "execution_count": 28,
     "metadata": {},
     "output_type": "execute_result"
    },
    {
     "data": {
      "text/plain": [
       "[<matplotlib.lines.Line2D at 0x25d983e0e10>]"
      ]
     },
     "execution_count": 28,
     "metadata": {},
     "output_type": "execute_result"
    },
    {
     "data": {
      "text/plain": [
       "Text(0.5, 1.0, 'LightGBM Training and Validation Error')"
      ]
     },
     "execution_count": 28,
     "metadata": {},
     "output_type": "execute_result"
    },
    {
     "data": {
      "text/plain": [
       "Text(0.5, 0, 'Number of Boosting Rounds')"
      ]
     },
     "execution_count": 28,
     "metadata": {},
     "output_type": "execute_result"
    },
    {
     "data": {
      "text/plain": [
       "Text(0, 0.5, 'Multi Log Loss')"
      ]
     },
     "execution_count": 28,
     "metadata": {},
     "output_type": "execute_result"
    },
    {
     "data": {
      "text/plain": [
       "<matplotlib.legend.Legend at 0x25d920d5550>"
      ]
     },
     "execution_count": 28,
     "metadata": {},
     "output_type": "execute_result"
    },
    {
     "data": {
      "text/plain": [
       "<AxesSubplot:>"
      ]
     },
     "execution_count": 28,
     "metadata": {},
     "output_type": "execute_result"
    },
    {
     "data": {
      "text/plain": [
       "[<matplotlib.lines.Line2D at 0x25d8626ed30>]"
      ]
     },
     "execution_count": 28,
     "metadata": {},
     "output_type": "execute_result"
    },
    {
     "data": {
      "text/plain": [
       "[<matplotlib.lines.Line2D at 0x25d8626ee10>]"
      ]
     },
     "execution_count": 28,
     "metadata": {},
     "output_type": "execute_result"
    },
    {
     "data": {
      "text/plain": [
       "Text(0.5, 1.0, 'LightGBM Training and Validation Accuracy')"
      ]
     },
     "execution_count": 28,
     "metadata": {},
     "output_type": "execute_result"
    },
    {
     "data": {
      "text/plain": [
       "Text(0.5, 0, 'Number of Boosting Rounds')"
      ]
     },
     "execution_count": 28,
     "metadata": {},
     "output_type": "execute_result"
    },
    {
     "data": {
      "text/plain": [
       "Text(0, 0.5, 'Accuracy')"
      ]
     },
     "execution_count": 28,
     "metadata": {},
     "output_type": "execute_result"
    },
    {
     "data": {
      "text/plain": [
       "<matplotlib.legend.Legend at 0x25d8626e358>"
      ]
     },
     "execution_count": 28,
     "metadata": {},
     "output_type": "execute_result"
    },
    {
     "data": {
      "image/png": "[encoded data removed]",
      "text/plain": [
       "<Figure size 1600x500 with 2 Axes>"
      ]
     },
     "metadata": {},
     "output_type": "display_data"
    }
   ],
   "source": [
    "plt.figure(figsize=(16, 5))\n",
    "\n",
    "# 绘制损失\n",
    "plt.subplot(1, 2, 1)\n",
    "plt.plot(evals_result[\"training\"][\"multi_logloss\"], label=\"Training Error\")\n",
    "plt.plot(evals_result[\"valid_1\"][\"multi_logloss\"], label=\"Validation Error\")\n",
    "plt.title(\"LightGBM Training and Validation Error\")\n",
    "plt.xlabel(\"Number of Boosting Rounds\")\n",
    "plt.ylabel(\"Multi Log Loss\")\n",
    "plt.legend()\n",
    "\n",
    "# 绘制准确率\n",
    "plt.subplot(1, 2, 2)\n",
    "plt.plot(np.arange(num_boost_round), [1 - loss for loss in evals_result[\"training\"][\"multi_logloss\"]], label=\"Training Accuracy\")\n",
    "plt.plot(np.arange(num_boost_round), [1 - loss for loss in evals_result[\"valid_1\"][\"multi_logloss\"]], label=\"Validation Accuracy\")\n",
    "plt.title(\"LightGBM Training and Validation Accuracy\")\n",
    "plt.xlabel(\"Number of Boosting Rounds\")\n",
    "plt.ylabel(\"Accuracy\")\n",
    "plt.legend()\n",
    "\n",
    "plt.tight_layout()\n",
    "plt.show()"
   ]
  },
  {
   "cell_type": "code",
   "execution_count": null,
   "metadata": {},
   "outputs": [
    {
     "data": {
      "text/plain": [
       "(15506, 20)"
      ]
     },
     "execution_count": 31,
     "metadata": {},
     "output_type": "execute_result"
    },
    {
     "data": {
      "text/plain": [
       "(15506,)"
      ]
     },
     "execution_count": 31,
     "metadata": {},
     "output_type": "execute_result"
    },
    {
     "data": {
      "text/plain": [
       "8071      7\n",
       "12922    19\n",
       "21652     0\n",
       "65458     2\n",
       "47273     7\n",
       "         ..\n",
       "35639    14\n",
       "38373     5\n",
       "3657     12\n",
       "48278    15\n",
       "55717    17\n",
       "Name: ship_true, Length: 15506, dtype: int32"
      ]
     },
     "execution_count": 31,
     "metadata": {},
     "output_type": "execute_result"
    },
    {
     "data": {
      "text/plain": [
       "0.9832967883399975"
      ]
     },
     "execution_count": 31,
     "metadata": {},
     "output_type": "execute_result"
    },
    {
     "data": {
      "text/plain": [
       "0.9832967883399975"
      ]
     },
     "execution_count": 31,
     "metadata": {},
     "output_type": "execute_result"
    },
    {
     "data": {
      "text/plain": [
       "0.9999516308466214"
      ]
     },
     "execution_count": 31,
     "metadata": {},
     "output_type": "execute_result"
    }
   ],
   "source": [
    "y_pred = clf_gbm.predict(X_test)\n",
    "y_pred.shape\n",
    "if y_pred.ndim > 1:  # 检查是否为多类输出\n",
    "    y_pred_labels = np.argmax(y_pred, axis=1)  # 对于多类问题\n",
    "else:\n",
    "    y_pred_labels = (y_pred > 0.5).astype(int)  # 对于二分类问题\n",
    "\n",
    "y_pred_labels.shape\n",
    "y_test\n",
    "accuracy_ = accuracy_score(y_pred_labels,y_test)\n",
    "accuracy_\n",
    "train_accuracy"
   ]
  },
  {
   "cell_type": "code",
   "execution_count": null,
   "metadata": {},
   "outputs": [],
   "source": [
    "lgb.create_tree_digraph(clf_gbm, tree_index=1)"
   ]
  },
  {
   "cell_type": "code",
   "execution_count": 34,
   "metadata": {},
   "outputs": [
    {
     "name": "stdout",
     "output_type": "stream",
     "text": [
      "                 Feature  Importance\n",
      "26          acceleration      163549\n",
      "3                  speed       84844\n",
      "27      angular_velocity       33096\n",
      "5             longtitude       32380\n",
      "6               latitude       32206\n",
      "4                   time       27245\n",
      "7       offset_longitude       23091\n",
      "8        offset_latitude       22202\n",
      "2                heading       21228\n",
      "25         jamming_score        6434\n",
      "0                ship_id        5477\n",
      "22  reconnaissance_score        4968\n",
      "24       intercept_score        3968\n",
      "23       precision_score        3295\n",
      "11                  防空导弹        1518\n"
     ]
    },
    {
     "data": {
      "text/plain": [
       "<Figure size 1200x600 with 0 Axes>"
      ]
     },
     "execution_count": 34,
     "metadata": {},
     "output_type": "execute_result"
    },
    {
     "data": {
      "text/plain": [
       "<BarContainer object of 15 artists>"
      ]
     },
     "execution_count": 34,
     "metadata": {},
     "output_type": "execute_result"
    },
    {
     "data": {
      "text/plain": [
       "Text(0.5, 0, 'Importance')"
      ]
     },
     "execution_count": 34,
     "metadata": {},
     "output_type": "execute_result"
    },
    {
     "data": {
      "text/plain": [
       "Text(0.5, 1.0, 'Top Feature Importances')"
      ]
     },
     "execution_count": 34,
     "metadata": {},
     "output_type": "execute_result"
    },
    {
     "name": "stderr",
     "output_type": "stream",
     "text": [
      "e:\\Anaconda\\envs\\project\\lib\\site-packages\\IPython\\core\\pylabtools.py:151: UserWarning: Glyph 38450 (\\N{CJK UNIFIED IDEOGRAPH-9632}) missing from current font.\n",
      "  fig.canvas.print_figure(bytes_io, **kw)\n",
      "e:\\Anaconda\\envs\\project\\lib\\site-packages\\IPython\\core\\pylabtools.py:151: UserWarning: Glyph 31354 (\\N{CJK UNIFIED IDEOGRAPH-7A7A}) missing from current font.\n",
      "  fig.canvas.print_figure(bytes_io, **kw)\n",
      "e:\\Anaconda\\envs\\project\\lib\\site-packages\\IPython\\core\\pylabtools.py:151: UserWarning: Glyph 23548 (\\N{CJK UNIFIED IDEOGRAPH-5BFC}) missing from current font.\n",
      "  fig.canvas.print_figure(bytes_io, **kw)\n",
      "e:\\Anaconda\\envs\\project\\lib\\site-packages\\IPython\\core\\pylabtools.py:151: UserWarning: Glyph 24377 (\\N{CJK UNIFIED IDEOGRAPH-5F39}) missing from current font.\n",
      "  fig.canvas.print_figure(bytes_io, **kw)\n"
     ]
    },
    {
     "data": {
      "image/png": "[encoded data removed]",
      "text/plain": [
       "<Figure size 1200x600 with 1 Axes>"
      ]
     },
     "metadata": {},
     "output_type": "display_data"
    }
   ],
   "source": [
    "from matplotlib import pyplot as plt\n",
    "\n",
    "\n",
    "importances = clf_gbm.feature_importance()\n",
    "feature_names = X_train.columns  # 获取特征名称\n",
    "\n",
    "# 创建一个 DataFrame 来存储特征名称和其重要性\n",
    "feature_importance_df = pd.DataFrame({\n",
    "    'Feature': feature_names,\n",
    "    'Importance': importances\n",
    "})\n",
    "\n",
    "# 按重要性排序\n",
    "feature_importance_df = feature_importance_df.sort_values(by='Importance', ascending=False)\n",
    "\n",
    "# 输出前几个重要特征\n",
    "top_n = 15  # 可调整显示的特征数量\n",
    "print(feature_importance_df.head(top_n))\n",
    "\n",
    "plt.figure(figsize=(12, 6))\n",
    "plt.barh(feature_importance_df['Feature'][:top_n], feature_importance_df['Importance'][:top_n], color='skyblue')\n",
    "plt.xlabel('Importance')\n",
    "plt.title('Top Feature Importances')\n",
    "plt.gca().invert_yaxis()  # 反转 y 轴，使最重要的特征在顶部\n",
    "plt.show()"
   ]
  },
  {
   "cell_type": "markdown",
   "metadata": {},
   "source": [
    "### 可视化一下这颗决策树"
   ]
  },
  {
   "cell_type": "code",
   "execution_count": 32,
   "metadata": {
    "collapsed": true
   },
   "outputs": [
    {
     "ename": "ModuleNotFoundError",
     "evalue": "No module named 'pydotplus'",
     "output_type": "error",
     "traceback": [
      "\u001b[1;31m---------------------------------------------------------------------------\u001b[0m",
      "\u001b[1;31mModuleNotFoundError\u001b[0m                       Traceback (most recent call last)",
      "\u001b[1;32m~\\AppData\\Local\\Temp\\ipykernel_8172\\3626009919.py\u001b[0m in \u001b[0;36m<module>\u001b[1;34m\u001b[0m\n\u001b[1;32m----> 1\u001b[1;33m \u001b[1;32mimport\u001b[0m \u001b[0mpydotplus\u001b[0m\u001b[1;33m\u001b[0m\u001b[1;33m\u001b[0m\u001b[0m\n\u001b[0m\u001b[0;32m      2\u001b[0m \u001b[1;32mfrom\u001b[0m \u001b[0mIPython\u001b[0m\u001b[1;33m.\u001b[0m\u001b[0mdisplay\u001b[0m \u001b[1;32mimport\u001b[0m \u001b[0mdisplay\u001b[0m\u001b[1;33m,\u001b[0m \u001b[0mImage\u001b[0m\u001b[1;33m\u001b[0m\u001b[1;33m\u001b[0m\u001b[0m\n\u001b[0;32m      3\u001b[0m dot_data = tree.export_graphviz(\n\u001b[0;32m      4\u001b[0m     \u001b[0mclf\u001b[0m\u001b[1;33m,\u001b[0m\u001b[1;33m\u001b[0m\u001b[1;33m\u001b[0m\u001b[0m\n\u001b[0;32m      5\u001b[0m     \u001b[0mout_file\u001b[0m\u001b[1;33m=\u001b[0m\u001b[1;32mNone\u001b[0m\u001b[1;33m,\u001b[0m\u001b[1;33m\u001b[0m\u001b[1;33m\u001b[0m\u001b[0m\n",
      "\u001b[1;31mModuleNotFoundError\u001b[0m: No module named 'pydotplus'"
     ]
    }
   ],
   "source": [
    "import pydotplus\n",
    "from IPython.display import display, Image\n",
    "dot_data = tree.export_graphviz(\n",
    "    clf,\n",
    "    out_file=None,\n",
    "    feature_names=feature_columns,\n",
    "    filled=True,\n",
    "    rounded=True,\n",
    "    special_characters=True  # 处理特殊字符（例如中文）  \n",
    ")"
   ]
  },
  {
   "cell_type": "code",
   "execution_count": null,
   "metadata": {},
   "outputs": [],
   "source": [
    "graph = pydotplus.graph_from_dot_data(dot_data)\n",
    "display(Image(graph.create_png()))"
   ]
  },
  {
   "cell_type": "code",
   "execution_count": null,
   "metadata": {
    "collapsed": true
   },
   "outputs": [],
   "source": [
    "ship_capabilities = {\n",
    "    \"航母1\": [30, 20, 10, 800, 8, 6, 30],\n",
    "    \"航母2\": [60, 40, 20, 1000, 6, 5, 35],\n",
    "    \"航母3\": [100, 100, 100, 600, 9, 4, 40],\n",
    "    \"巡洋舰1\": [128, 128, 96, 1200, 3, 3, 800],\n",
    "    \"巡洋舰2\": [150, 250, 200, 1000, 2, 4, 1200],\n",
    "    \"巡洋舰3\": [120, 120, 120, 800, 4, 4, 1000],\n",
    "    \"驱逐舰1\": [20, 20, 20, 600, 1, 1, 300],\n",
    "    \"驱逐舰2\": [30, 40, 50, 650, 1, 2, 350],\n",
    "    \"驱逐舰3\": [60, 50, 40, 700, 2, 1, 400],\n",
    "    \"驱逐舰4\": [70, 80, 90, 750, 2, 2, 450],\n",
    "    \"护卫舰1\": [0, 60, 70, 500, 3, 4, 400],\n",
    "    \"护卫舰2\": [70, 60, 0, 600, 4, 3, 420],\n",
    "    \"护卫舰3\": [60, 0, 60, 550, 2, 5, 380],\n",
    "    \"护卫舰4\": [0, 75, 75, 500, 5, 5, 450],\n",
    "    \"护卫舰5\": [80, 75, 0, 650, 2, 2, 350],\n",
    "    \"护卫舰6\": [90, 90, 100, 800, 3, 3, 390],\n",
    "    \"护卫舰7\": [100, 100, 60, 450, 4, 4, 500],\n",
    "    \"潜艇1\": [40, 0, 0, 0, 5, 5, 100],\n",
    "    \"潜艇2\": [0, 50, 0, 200, 4, 6, 30],\n",
    "    \"潜艇3\": [0, 0, 60, 300, 7, 2, 50],\n",
    "}\n",
    "\n",
    "ship_weights = {}\n",
    "for ship, capabilities in ship_capabilities.items():\n",
    "    attack_weight = capabilities[0] + capabilities[1] + capabilities[2]  # 舰空能力\n",
    "    defense_weight = capabilities[3]  # 近防能力\n",
    "    electronic_weight = capabilities[4] + capabilities[5]  # 电子能力\n",
    "    radar_weight = capabilities[6]  # 雷达能力\n",
    "    \n",
    "    # 计算综合权重，这里可以应用自己的算法\n",
    "    total_weight = attack_weight * 0.5 + defense_weight * 0.3 + electronic_weight * 0.1 + radar_weight * 0.1\n",
    "    ship_weights[ship] = {\n",
    "        \"A\": total_weight,  # 假设A意图对应攻击\n",
    "        \"B\": defense_weight,  # 假设B意图对应防空\n",
    "        \"C\": electronic_weight,  # 假设C意图对应电子战\n",
    "        \"D\": radar_weight,  # 假设D意图对应雷达相关\n",
    "    }\n",
    "\n",
    "for ship, weights in ship_weights.items():\n",
    "    print(f\"{ship}: {weights}\")\n"
   ]
  }
 ],
 "metadata": {
  "kernelspec": {
   "display_name": "project",
   "language": "python",
   "name": "python3"
  },
  "language_info": {
   "codemirror_mode": {
    "name": "ipython",
    "version": 3
   },
   "file_extension": ".py",
   "mimetype": "text/x-python",
   "name": "python",
   "nbconvert_exporter": "python",
   "pygments_lexer": "ipython3",
   "version": "3.7.1"
  }
 },
 "nbformat": 4,
 "nbformat_minor": 1
}
